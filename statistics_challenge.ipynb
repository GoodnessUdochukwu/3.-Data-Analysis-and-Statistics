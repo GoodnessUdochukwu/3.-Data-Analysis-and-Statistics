{
 "cells": [
  {
   "cell_type": "markdown",
   "id": "7c3c62db-274a-4beb-8af2-edf0bd17059c",
   "metadata": {},
   "source": [
    "## **Hypothesis Testing**"
   ]
  },
  {
   "cell_type": "code",
   "execution_count": 298,
   "id": "14d3bb2b-0403-4d89-ad81-57f3440db3dc",
   "metadata": {},
   "outputs": [],
   "source": [
    "from scipy import stats\n",
    "import numpy as np\n",
    "import pandas as pd\n",
    "import matplotlib.pyplot as plt\n",
    "import seaborn as sns"
   ]
  },
  {
   "cell_type": "markdown",
   "id": "37ef4b03-4ea6-413a-b7a6-bdca8b786471",
   "metadata": {},
   "source": [
    "#### **Binomial Test**"
   ]
  },
  {
   "cell_type": "markdown",
   "id": "b1e35ba4-3592-4115-86fe-c20d2bff3d53",
   "metadata": {},
   "source": [
    "    A test where the outcome is binary and depends on some probability e.g. toss of a coin. \n",
    "    \n",
    "    Can be used to develop a distribution of outcomes following multiple binomial test i.e. a binomial distribution."
   ]
  },
  {
   "cell_type": "markdown",
   "id": "69a47f3f-7cdd-4a6f-8408-732e87d449cb",
   "metadata": {},
   "source": [
    "##### **Simulate Multiple Coin Flips**"
   ]
  },
  {
   "cell_type": "code",
   "execution_count": 267,
   "id": "bc7a32b2-fbe0-4aa7-b26c-5d45df4da861",
   "metadata": {},
   "outputs": [
    {
     "name": "stdout",
     "output_type": "stream",
     "text": [
      "3\n"
     ]
    }
   ],
   "source": [
    "# Simulate 10 flips of a coin.\n",
    "flips = np.random.choice(['heads', 'tails'], size=10, p=[0.5, 0.5])\n",
    "num_heads = np.sum(flips == 'heads')\n",
    "print(num_heads)"
   ]
  },
  {
   "cell_type": "code",
   "execution_count": 280,
   "id": "b1d8b090-c968-4c53-85b1-89bbad48245a",
   "metadata": {},
   "outputs": [
    {
     "name": "stdout",
     "output_type": "stream",
     "text": [
      "0 10\n"
     ]
    }
   ],
   "source": [
    "# Simulate the distribution of heads obtained in flips of 10 coins 10,000 times, \n",
    "# and plot the distribution of heads.\n",
    "heads_dist10 = []\n",
    "\n",
    "for num in range(10000):\n",
    "    flips = np.random.choice(['heads', 'tails'], size=10, p=[0.5, 0.5])\n",
    "    num_heads = np.sum(flips == 'heads')\n",
    "    heads_dist10.append(num_heads)\n",
    "\n",
    "\n",
    "heads_dist10_min = np.min(heads_dist10)\n",
    "heads_dist10_max = np.max(heads_dist10)\n",
    "\n",
    "print(heads_dist10_min, heads_dist10_max)"
   ]
  },
  {
   "cell_type": "code",
   "execution_count": 281,
   "id": "bb232f70-9ed7-4cba-934f-cb36fe6b3b4f",
   "metadata": {},
   "outputs": [
    {
     "data": {
      "text/plain": [
       "1.5819292019556375"
      ]
     },
     "execution_count": 281,
     "metadata": {},
     "output_type": "execute_result"
    }
   ],
   "source": [
    "np.std(heads_dist10)"
   ]
  },
  {
   "cell_type": "code",
   "execution_count": 282,
   "id": "79f44f1f-0bd4-4a0e-999d-f1ac98d20b63",
   "metadata": {},
   "outputs": [
    {
     "data": {
      "image/png": "[encoded data removed]",
      "text/plain": [
       "<Figure size 576x360 with 1 Axes>"
      ]
     },
     "metadata": {
      "needs_background": "light"
     },
     "output_type": "display_data"
    }
   ],
   "source": [
    "plt.figure(figsize=(8, 5));\n",
    "plt.hist(heads_dist10, bins=10);\n",
    "plt.show();"
   ]
  },
  {
   "cell_type": "markdown",
   "id": "3e4d772d-de0b-4148-9e6e-3f70aa454a33",
   "metadata": {
    "jp-MarkdownHeadingCollapsed": true,
    "tags": []
   },
   "source": [
    "##### **Changing Size**"
   ]
  },
  {
   "cell_type": "code",
   "execution_count": 283,
   "id": "d432ed3f-6e33-4ea1-aa34-f8b187a401c9",
   "metadata": {},
   "outputs": [
    {
     "name": "stdout",
     "output_type": "stream",
     "text": [
      "213 299\n"
     ]
    }
   ],
   "source": [
    "# Simulate the distribution of heads obtained in flips of 500 coins 10,000 times, \n",
    "# and plot the distribution of heads.\n",
    "heads_dist500 = []\n",
    "\n",
    "for num in range(10000):\n",
    "    flips = np.random.choice(['heads', 'tails'], size=500, p=[0.5, 0.5])\n",
    "    num_heads = np.sum(flips == 'heads')\n",
    "    heads_dist500.append(num_heads)\n",
    "\n",
    "\n",
    "heads_dist500_min = np.min(heads_dist500)\n",
    "heads_dist500_max = np.max(heads_dist500)\n",
    "\n",
    "print(heads_dist500_min, heads_dist500_max)"
   ]
  },
  {
   "cell_type": "code",
   "execution_count": 284,
   "id": "0b632eb9-4366-48bb-aa60-7ed4da781b71",
   "metadata": {},
   "outputs": [
    {
     "data": {
      "text/plain": [
       "11.215412152480177"
      ]
     },
     "execution_count": 284,
     "metadata": {},
     "output_type": "execute_result"
    }
   ],
   "source": [
    "np.std(heads_dist500)"
   ]
  },
  {
   "cell_type": "code",
   "execution_count": 285,
   "id": "d2385d8d-c904-4b17-a680-1406c23c7189",
   "metadata": {},
   "outputs": [
    {
     "data": {
      "image/png": "[encoded data removed]",
      "text/plain": [
       "<Figure size 576x360 with 1 Axes>"
      ]
     },
     "metadata": {
      "needs_background": "light"
     },
     "output_type": "display_data"
    }
   ],
   "source": [
    "plt.figure(figsize=(8, 5));\n",
    "plt.hist(heads_dist500, bins=10);\n",
    "plt.show();"
   ]
  },
  {
   "cell_type": "code",
   "execution_count": 286,
   "id": "d93412f5-79f5-43b8-8f54-3d7cf3382645",
   "metadata": {},
   "outputs": [
    {
     "name": "stdout",
     "output_type": "stream",
     "text": [
      "432 552\n"
     ]
    }
   ],
   "source": [
    "# Simulate the distribution of heads obtained in flips of 1000 coins 10,000 times, \n",
    "# and plot the distribution of heads.\n",
    "heads_dist1000 = []\n",
    "\n",
    "for num in range(10000):\n",
    "    flips = np.random.choice(['heads', 'tails'], size=1000, p=[0.5, 0.5])\n",
    "    num_heads = np.sum(flips == 'heads')\n",
    "    heads_dist1000.append(num_heads)\n",
    "\n",
    "\n",
    "heads_dist1000_min = np.min(heads_dist1000)\n",
    "heads_dist1000_max = np.max(heads_dist1000)\n",
    "\n",
    "print(heads_dist1000_min, heads_dist1000_max)"
   ]
  },
  {
   "cell_type": "code",
   "execution_count": 287,
   "id": "1bebb86f-cde7-4a54-be4a-a32a5c16f919",
   "metadata": {},
   "outputs": [
    {
     "data": {
      "text/plain": [
       "15.75579106106704"
      ]
     },
     "execution_count": 287,
     "metadata": {},
     "output_type": "execute_result"
    }
   ],
   "source": [
    "np.std(heads_dist1000)"
   ]
  },
  {
   "cell_type": "code",
   "execution_count": 288,
   "id": "7a19cef5-9b85-4aa6-8851-ad1e281b4e00",
   "metadata": {},
   "outputs": [
    {
     "data": {
      "image/png": "[encoded data removed]",
      "text/plain": [
       "<Figure size 576x360 with 1 Axes>"
      ]
     },
     "metadata": {
      "needs_background": "light"
     },
     "output_type": "display_data"
    }
   ],
   "source": [
    "plt.figure(figsize=(8, 5));\n",
    "plt.hist(heads_dist1000, bins=10);\n",
    "plt.show();"
   ]
  },
  {
   "cell_type": "code",
   "execution_count": 289,
   "id": "75e67ead-4cc5-449d-8157-68068b0aa46b",
   "metadata": {},
   "outputs": [
    {
     "name": "stdout",
     "output_type": "stream",
     "text": [
      "4823 5198\n"
     ]
    }
   ],
   "source": [
    "# Simulate the distribution of heads obtained in flips of 10,000 coins 10,000 times, \n",
    "# and plot the distribution of heads.\n",
    "heads_dist10000 = []\n",
    "\n",
    "for num in range(10000):\n",
    "    flips = np.random.choice(['heads', 'tails'], size=10000, p=[0.5, 0.5])\n",
    "    num_heads = np.sum(flips == 'heads')\n",
    "    heads_dist10000.append(num_heads)\n",
    "\n",
    "\n",
    "heads_dist10000_min = np.min(heads_dist10000)\n",
    "heads_dist10000_max = np.max(heads_dist10000)\n",
    "\n",
    "print(heads_dist10000_min, heads_dist10000_max)"
   ]
  },
  {
   "cell_type": "code",
   "execution_count": 290,
   "id": "e815770e-e239-4107-9c71-6891fcec31ad",
   "metadata": {},
   "outputs": [
    {
     "data": {
      "text/plain": [
       "50.24076373782548"
      ]
     },
     "execution_count": 290,
     "metadata": {},
     "output_type": "execute_result"
    }
   ],
   "source": [
    "np.std(heads_dist10000)"
   ]
  },
  {
   "cell_type": "code",
   "execution_count": 294,
   "id": "38ab2154-01a9-495d-911e-6e281dfd36cf",
   "metadata": {},
   "outputs": [
    {
     "data": {
      "image/png": "[encoded data removed]",
      "text/plain": [
       "<Figure size 576x360 with 1 Axes>"
      ]
     },
     "metadata": {
      "needs_background": "light"
     },
     "output_type": "display_data"
    }
   ],
   "source": [
    "plt.figure(figsize=(8, 5));\n",
    "plt.hist(heads_dist10000, bins=10);\n",
    "plt.show();"
   ]
  },
  {
   "cell_type": "markdown",
   "id": "6e3a3c94-5a10-4401-b901-39d9848300b4",
   "metadata": {},
   "source": [
    "    Increasing the size results in greater standard deviation."
   ]
  },
  {
   "cell_type": "markdown",
   "id": "8576cdd8-00c8-409c-aafc-74a001d0872c",
   "metadata": {},
   "source": [
    "##### **Develop a Binomial Test Function**"
   ]
  },
  {
   "cell_type": "code",
   "execution_count": 295,
   "id": "a899c00e-57cd-43d8-aee4-47f76567b282",
   "metadata": {},
   "outputs": [],
   "source": [
    "def simulation_binomial_test(observed_successes, n, prob):\n",
    "\n",
    "  # n = sample size, prob = probability of success  \n",
    "\n",
    "  null_outcomes = []\n",
    "  \n",
    "  for i in range(10000):\n",
    "    simulated_monthly_visitors = np.random.choice(['y', 'n'], size=n, p=[prob, 1-prob])\n",
    "    num_purchased = np.sum(simulated_monthly_visitors == 'y')\n",
    "    null_outcomes.append(num_purchased)\n",
    "\n",
    "  \n",
    "  null_outcomes = np.array(null_outcomes)\n",
    "  p_value = np.sum(null_outcomes <= observed_successes)/len(null_outcomes) \n",
    "  \n",
    "  #return the p-value\n",
    "  return p_value"
   ]
  },
  {
   "cell_type": "markdown",
   "id": "36f2ae88-eea4-4d57-8bb3-d59e38bb92bf",
   "metadata": {},
   "source": [
    "    # calculate 2-sided p_value using scipy.\n",
    "    pval = stats.binom_test(observed_successes, n, prob)\n",
    "\n",
    "    # calculate 1-sided p_value using scipy.\n",
    "    pval = stats.binom_test(observed_successes, n, prob, alternative='less')"
   ]
  },
  {
   "cell_type": "markdown",
   "id": "6e71c29a-2c74-4e6b-a7dd-80bc07711ce2",
   "metadata": {},
   "source": [
    "#### **1-Sample t-test**"
   ]
  },
  {
   "cell_type": "code",
   "execution_count": 2,
   "id": "de824de2-4ae0-4547-abcc-069e4f42ddb3",
   "metadata": {
    "collapsed": true,
    "jupyter": {
     "outputs_hidden": true
    },
    "tags": []
   },
   "outputs": [
    {
     "data": {
      "text/plain": [
       "0     1.30\n",
       "1     0.47\n",
       "2     1.50\n",
       "3     1.66\n",
       "4     2.43\n",
       "      ... \n",
       "57    0.54\n",
       "58    0.63\n",
       "59    1.03\n",
       "60    0.73\n",
       "61    2.02\n",
       "Length: 62, dtype: float64"
      ]
     },
     "execution_count": 2,
     "metadata": {},
     "output_type": "execute_result"
    }
   ],
   "source": [
    "sample = pd.Series([1.3, 0.47, 1.5, 1.66, 2.43, 1.29, 0.94, 1.06, 1.03, 0.76, 0.6, 0.76, 0.32, 2.2, 1.24, 1.8, 1.66, 0.51, \n",
    "                    0.72, 1.62, 0.7, 0.76, 0.9, 0.93, 0.98, 0.42, 0.59, 0.12, 0.95, 0.55, 0.16, 1.25, 0.42, 0.64, 0.66, \n",
    "                    1.04, 0.49,0.41, 0.4, 0.81, 0.71, 0.04, 0.6, 2.44, 1.61, 0.13, 2.08, 0.7, 0.61, 0.58, 0.77, 0.67, 1.16, \n",
    "                    0.31, 0.3, 0.66, 0.03, 0.54, 0.63, 1.03, 0.73, 2.02])\n",
    "sample"
   ]
  },
  {
   "cell_type": "markdown",
   "id": "973aff82-46ce-4e4b-bb26-49c57c6b6115",
   "metadata": {
    "tags": []
   },
   "source": [
    "    1. The null hypothesis: sample is drawn from population with mean equal to one.\n",
    "\n",
    "    2. The alternative hypothesis: sample is drawn from a population with mean not equal to one.\n",
    "\n",
    "    3. The significance level is 95%."
   ]
  },
  {
   "cell_type": "code",
   "execution_count": 3,
   "id": "a92c0523-cabe-4d45-bd73-13f539a9d3fa",
   "metadata": {},
   "outputs": [
    {
     "data": {
      "text/plain": [
       "62"
      ]
     },
     "execution_count": 3,
     "metadata": {},
     "output_type": "execute_result"
    }
   ],
   "source": [
    "len(sample)"
   ]
  },
  {
   "cell_type": "code",
   "execution_count": 4,
   "id": "0e4acc3c-ce1e-49d5-87ac-1b15d67a34f2",
   "metadata": {},
   "outputs": [
    {
     "data": {
      "text/plain": [
       "0.8935483870967743"
      ]
     },
     "execution_count": 4,
     "metadata": {},
     "output_type": "execute_result"
    }
   ],
   "source": [
    "sample_mean = sample.mean()\n",
    "sample_mean"
   ]
  },
  {
   "cell_type": "code",
   "execution_count": 5,
   "id": "12d38e58-57d3-41fd-ae6c-4a1ea77b550e",
   "metadata": {},
   "outputs": [
    {
     "data": {
      "text/plain": [
       "0.5698474520662796"
      ]
     },
     "execution_count": 5,
     "metadata": {},
     "output_type": "execute_result"
    }
   ],
   "source": [
    "sample_stddev = np.std(sample)\n",
    "sample_stddev"
   ]
  },
  {
   "cell_type": "code",
   "execution_count": 8,
   "id": "09218aaf-3f57-4ff4-abc2-a8cd046f745c",
   "metadata": {},
   "outputs": [
    {
     "data": {
      "text/plain": [
       "0.07237069878315248"
      ]
     },
     "execution_count": 8,
     "metadata": {},
     "output_type": "execute_result"
    }
   ],
   "source": [
    "std_error = sample_stddev/np.sqrt(len(sample))\n",
    "std_error"
   ]
  },
  {
   "cell_type": "code",
   "execution_count": 7,
   "id": "b0105d9f-0f54-4d38-8d86-4cd0117a74fa",
   "metadata": {},
   "outputs": [
    {
     "data": {
      "text/plain": [
       "0.07296148980027695"
      ]
     },
     "execution_count": 7,
     "metadata": {},
     "output_type": "execute_result"
    }
   ],
   "source": [
    "std_error = stats.sem(sample)\n",
    "std_error"
   ]
  },
  {
   "cell_type": "markdown",
   "id": "abdf5e34-0692-4e79-9a60-f9124a63dd38",
   "metadata": {},
   "source": [
    "##### **Using the Manual Method**"
   ]
  },
  {
   "cell_type": "markdown",
   "id": "543731cf-04a9-4035-baf1-0ee107a27e1e",
   "metadata": {},
   "source": [
    "    Steps:\n",
    "    \n",
    "    1. Determine the null distribution via central limit theorem.\n",
    "    \n",
    "    2. Calculate the confidence interval.\n",
    "    \n",
    "    3. Test the null hypothesis i.e. obtain the pval."
   ]
  },
  {
   "cell_type": "code",
   "execution_count": 151,
   "id": "64b7d5ed-ded0-457b-8549-389a49f848df",
   "metadata": {},
   "outputs": [
    {
     "data": {
      "image/png": "[encoded data removed]",
      "text/plain": [
       "<Figure size 864x576 with 1 Axes>"
      ]
     },
     "metadata": {
      "needs_background": "light"
     },
     "output_type": "display_data"
    }
   ],
   "source": [
    "# Determine the null distribution via central limit theorem.\n",
    "\n",
    "sample_mean_dist = np.random.normal(loc=1,               # population mean\n",
    "                                    scale=std_error,     # estimated standard error\n",
    "                                    size=10000\n",
    "                                    )\n",
    "\n",
    "sample_mean_dist = pd.Series(sample_mean_dist)\n",
    "\n",
    "# plot distribution.\n",
    "sample_mean_dist.hist(bins=50, grid=True, color='gray', figsize=(12, 8));\n",
    "plt.axvline(1, linestyle=\"--\", color='white');\n",
    "plt.axvline(sample_mean, linestyle=\"--\", color='black');\n",
    "plt.axvline(1 + std_error, linestyle=\"--\", color='green');\n",
    "plt.axvline(1 - std_error, linestyle=\"--\", color='green');\n",
    "plt.axvline(1 + 2*std_error, linestyle=\"--\", color='red');\n",
    "plt.axvline(1 - 2*std_error, linestyle=\"--\", color='red');"
   ]
  },
  {
   "cell_type": "markdown",
   "id": "53f41aad-f8fe-4a97-b962-efd955f8886b",
   "metadata": {},
   "source": [
    "    from the plot, one may surmise that the sample mean is not significant and therefore the null hypothesis is accepted."
   ]
  },
  {
   "cell_type": "code",
   "execution_count": 44,
   "id": "ea90d399-f40d-48e2-b7f9-747f930abf9f",
   "metadata": {},
   "outputs": [
    {
     "data": {
      "text/plain": [
       "array([0.8602308 , 1.14355298])"
      ]
     },
     "execution_count": 44,
     "metadata": {},
     "output_type": "execute_result"
    }
   ],
   "source": [
    "# Calculate the confidence interval\n",
    "confidence_interval = np.percentile(np.array(sample_mean_dist), [2.5, 97.5])\n",
    "confidence_interval"
   ]
  },
  {
   "cell_type": "code",
   "execution_count": 45,
   "id": "936c5e0d-7a88-4253-94da-7678bf4e29f5",
   "metadata": {},
   "outputs": [
    {
     "data": {
      "text/plain": [
       "[0.855258602433695, 1.144741397566305]"
      ]
     },
     "execution_count": 45,
     "metadata": {},
     "output_type": "execute_result"
    }
   ],
   "source": [
    "confidence_interval = [1 - 2*std_error, 1 + 2*std_error]\n",
    "confidence_interval"
   ]
  },
  {
   "cell_type": "code",
   "execution_count": 46,
   "id": "bb9b5112-1d50-44a2-b66f-96ef0e847430",
   "metadata": {},
   "outputs": [
    {
     "data": {
      "text/plain": [
       "0.0634"
      ]
     },
     "execution_count": 46,
     "metadata": {},
     "output_type": "execute_result"
    }
   ],
   "source": [
    "#  Test the null hypothesis i.e. obtain the pval.\n",
    "pval = len(sample_mean_dist[sample_mean_dist < 0.89])/len(sample_mean_dist)\n",
    "pval"
   ]
  },
  {
   "cell_type": "code",
   "execution_count": 47,
   "id": "2dc2ac5c-1996-4257-a348-8e4bf5728fa8",
   "metadata": {},
   "outputs": [
    {
     "data": {
      "text/plain": [
       "0.06426149972288563"
      ]
     },
     "execution_count": 47,
     "metadata": {},
     "output_type": "execute_result"
    }
   ],
   "source": [
    "z_score = (0.89 - 1)/std_error\n",
    "pval = stats.norm.cdf(z_score)\n",
    "pval"
   ]
  },
  {
   "cell_type": "markdown",
   "id": "eebf70cf-150a-4fd9-a004-4ba7f1f08663",
   "metadata": {},
   "source": [
    "##### **Using the Scipy Method**"
   ]
  },
  {
   "cell_type": "code",
   "execution_count": 53,
   "id": "9adfeaa4-a660-473e-8418-c90ef65a69e1",
   "metadata": {},
   "outputs": [
    {
     "data": {
      "text/plain": [
       "0.07484626541081206"
      ]
     },
     "execution_count": 53,
     "metadata": {},
     "output_type": "execute_result"
    }
   ],
   "source": [
    "tstat, pval = stats.ttest_1samp(sample, 1)\n",
    "pval = pval/2\n",
    "pval"
   ]
  },
  {
   "cell_type": "code",
   "execution_count": 54,
   "id": "6d428c5b-8194-4ad5-a6e9-f00ee6ac669b",
   "metadata": {
    "collapsed": true,
    "jupyter": {
     "outputs_hidden": true
    },
    "tags": []
   },
   "outputs": [
    {
     "data": {
      "text/plain": [
       "[172,\n",
       " 155,\n",
       " 144,\n",
       " 112,\n",
       " 79,\n",
       " 132,\n",
       " 126,\n",
       " 184,\n",
       " 145,\n",
       " 155,\n",
       " 65,\n",
       " 73,\n",
       " 56,\n",
       " 156,\n",
       " 117,\n",
       " 213,\n",
       " 143,\n",
       " 86,\n",
       " 86,\n",
       " 197,\n",
       " 54,\n",
       " 195,\n",
       " 186,\n",
       " 108,\n",
       " 76,\n",
       " 191,\n",
       " 54,\n",
       " 115,\n",
       " 106,\n",
       " 173,\n",
       " 91,\n",
       " 95,\n",
       " 144,\n",
       " 94,\n",
       " 135,\n",
       " 116,\n",
       " 182,\n",
       " 144,\n",
       " 127,\n",
       " 216,\n",
       " 71,\n",
       " 200,\n",
       " 182,\n",
       " 71,\n",
       " 129]"
      ]
     },
     "execution_count": 54,
     "metadata": {},
     "output_type": "execute_result"
    }
   ],
   "source": [
    "sample1 = [172, 155, 144, 112, 79, 132, 126, 184, 145, 155, 65, 73, \n",
    "           56, 156, 117, 213, 143, 86, 86, 197, 54, 195, 186, 108, \n",
    "           76, 191, 54, 115, 106, 173, 91, 95, 144, 94, 135, 116, \n",
    "           182, 144, 127, 216, 71, 200, 182, 71, 129]\n",
    "sample1"
   ]
  },
  {
   "cell_type": "code",
   "execution_count": 56,
   "id": "edefdad6-2e0e-42e8-881b-d53a4fe6307e",
   "metadata": {},
   "outputs": [
    {
     "data": {
      "text/plain": [
       "9.338735146790408e-05"
      ]
     },
     "execution_count": 56,
     "metadata": {},
     "output_type": "execute_result"
    }
   ],
   "source": [
    "tstat, pval = stats.ttest_1samp(sample1, 100)\n",
    "pval"
   ]
  },
  {
   "cell_type": "markdown",
   "id": "4989a49a-0ed8-4553-b867-fb604be9b929",
   "metadata": {},
   "source": [
    "    sample1 is not from same population as the population with average of 100."
   ]
  },
  {
   "cell_type": "markdown",
   "id": "6adac849-ee19-429a-9192-42483e8b2aa4",
   "metadata": {},
   "source": [
    "### **2-Sample t-test**"
   ]
  },
  {
   "cell_type": "markdown",
   "id": "6b500c0f-13d2-43a4-b9fd-06a43a9dd02c",
   "metadata": {},
   "source": [
    "    Investigates relationship between a quantitative variable and a binary categorical variable.\n",
    "    \n",
    "    Assumptions:\n",
    "        \n",
    "        1. Observations are independent and randomly sampled. # accepted\n",
    "        \n",
    "        2. The standard deviations of groups are approx. a ratio between 0.9 and 1.1.  # to be assessed\n",
    "        \n",
    "        3. The data are normally distributed.                # to be assessed\n",
    "        \n",
    "        4. The categorical groups must be independent.       # accepted"
   ]
  },
  {
   "cell_type": "markdown",
   "id": "1bd27bda-2a72-4062-aee8-6be7063108ec",
   "metadata": {},
   "source": [
    "    significance level is 0.05"
   ]
  },
  {
   "cell_type": "markdown",
   "id": "9145e4e4-fc7d-4ca2-94bb-a365a0abc7cb",
   "metadata": {},
   "source": [
    "### **Import Data**"
   ]
  },
  {
   "cell_type": "code",
   "execution_count": 59,
   "id": "df2f19c2-44ec-4827-bb38-ae86c47d16ba",
   "metadata": {
    "collapsed": true,
    "jupyter": {
     "outputs_hidden": true
    },
    "tags": []
   },
   "outputs": [
    {
     "data": {
      "text/html": [
       "<div>\n",
       "<style scoped>\n",
       "    .dataframe tbody tr th:only-of-type {\n",
       "        vertical-align: middle;\n",
       "    }\n",
       "\n",
       "    .dataframe tbody tr th {\n",
       "        vertical-align: top;\n",
       "    }\n",
       "\n",
       "    .dataframe thead th {\n",
       "        text-align: right;\n",
       "    }\n",
       "</style>\n",
       "<table border=\"1\" class=\"dataframe\">\n",
       "  <thead>\n",
       "    <tr style=\"text-align: right;\">\n",
       "      <th></th>\n",
       "      <th>time_minutes</th>\n",
       "      <th>version</th>\n",
       "    </tr>\n",
       "  </thead>\n",
       "  <tbody>\n",
       "    <tr>\n",
       "      <th>0</th>\n",
       "      <td>11.92</td>\n",
       "      <td>new</td>\n",
       "    </tr>\n",
       "    <tr>\n",
       "      <th>1</th>\n",
       "      <td>12.90</td>\n",
       "      <td>old</td>\n",
       "    </tr>\n",
       "    <tr>\n",
       "      <th>2</th>\n",
       "      <td>13.76</td>\n",
       "      <td>old</td>\n",
       "    </tr>\n",
       "    <tr>\n",
       "      <th>3</th>\n",
       "      <td>15.68</td>\n",
       "      <td>old</td>\n",
       "    </tr>\n",
       "    <tr>\n",
       "      <th>4</th>\n",
       "      <td>16.28</td>\n",
       "      <td>old</td>\n",
       "    </tr>\n",
       "    <tr>\n",
       "      <th>...</th>\n",
       "      <td>...</td>\n",
       "      <td>...</td>\n",
       "    </tr>\n",
       "    <tr>\n",
       "      <th>95</th>\n",
       "      <td>34.88</td>\n",
       "      <td>old</td>\n",
       "    </tr>\n",
       "    <tr>\n",
       "      <th>96</th>\n",
       "      <td>35.35</td>\n",
       "      <td>new</td>\n",
       "    </tr>\n",
       "    <tr>\n",
       "      <th>97</th>\n",
       "      <td>35.37</td>\n",
       "      <td>new</td>\n",
       "    </tr>\n",
       "    <tr>\n",
       "      <th>98</th>\n",
       "      <td>36.19</td>\n",
       "      <td>new</td>\n",
       "    </tr>\n",
       "    <tr>\n",
       "      <th>99</th>\n",
       "      <td>37.29</td>\n",
       "      <td>new</td>\n",
       "    </tr>\n",
       "  </tbody>\n",
       "</table>\n",
       "<p>100 rows × 2 columns</p>\n",
       "</div>"
      ],
      "text/plain": [
       "    time_minutes version\n",
       "0          11.92     new\n",
       "1          12.90     old\n",
       "2          13.76     old\n",
       "3          15.68     old\n",
       "4          16.28     old\n",
       "..           ...     ...\n",
       "95         34.88     old\n",
       "96         35.35     new\n",
       "97         35.37     new\n",
       "98         36.19     new\n",
       "99         37.29     new\n",
       "\n",
       "[100 rows x 2 columns]"
      ]
     },
     "execution_count": 59,
     "metadata": {},
     "output_type": "execute_result"
    }
   ],
   "source": [
    "sample2 = pd.read_csv('times_version.txt', engine='python', sep=',')\n",
    "sample2"
   ]
  },
  {
   "cell_type": "code",
   "execution_count": 63,
   "id": "e7cc3154-4ba0-400f-bfbe-612db8a3b322",
   "metadata": {
    "collapsed": true,
    "jupyter": {
     "outputs_hidden": true
    },
    "tags": []
   },
   "outputs": [
    {
     "data": {
      "text/html": [
       "<div>\n",
       "<style scoped>\n",
       "    .dataframe tbody tr th:only-of-type {\n",
       "        vertical-align: middle;\n",
       "    }\n",
       "\n",
       "    .dataframe tbody tr th {\n",
       "        vertical-align: top;\n",
       "    }\n",
       "\n",
       "    .dataframe thead th {\n",
       "        text-align: right;\n",
       "    }\n",
       "</style>\n",
       "<table border=\"1\" class=\"dataframe\">\n",
       "  <thead>\n",
       "    <tr style=\"text-align: right;\">\n",
       "      <th></th>\n",
       "      <th>time_minutes</th>\n",
       "      <th>version</th>\n",
       "    </tr>\n",
       "  </thead>\n",
       "  <tbody>\n",
       "    <tr>\n",
       "      <th>0</th>\n",
       "      <td>11.92</td>\n",
       "      <td>new</td>\n",
       "    </tr>\n",
       "    <tr>\n",
       "      <th>1</th>\n",
       "      <td>16.93</td>\n",
       "      <td>new</td>\n",
       "    </tr>\n",
       "    <tr>\n",
       "      <th>2</th>\n",
       "      <td>17.20</td>\n",
       "      <td>new</td>\n",
       "    </tr>\n",
       "    <tr>\n",
       "      <th>3</th>\n",
       "      <td>19.52</td>\n",
       "      <td>new</td>\n",
       "    </tr>\n",
       "    <tr>\n",
       "      <th>4</th>\n",
       "      <td>19.65</td>\n",
       "      <td>new</td>\n",
       "    </tr>\n",
       "  </tbody>\n",
       "</table>\n",
       "</div>"
      ],
      "text/plain": [
       "   time_minutes version\n",
       "0         11.92     new\n",
       "1         16.93     new\n",
       "2         17.20     new\n",
       "3         19.52     new\n",
       "4         19.65     new"
      ]
     },
     "execution_count": 63,
     "metadata": {},
     "output_type": "execute_result"
    }
   ],
   "source": [
    "sample2_new = sample2[sample2.version == 'new'].reset_index(drop=True)\n",
    "sample2_new.head()"
   ]
  },
  {
   "cell_type": "code",
   "execution_count": 64,
   "id": "bbca95ea-8ae4-463c-9e41-9047adedceb4",
   "metadata": {
    "collapsed": true,
    "jupyter": {
     "outputs_hidden": true
    },
    "tags": []
   },
   "outputs": [
    {
     "data": {
      "text/html": [
       "<div>\n",
       "<style scoped>\n",
       "    .dataframe tbody tr th:only-of-type {\n",
       "        vertical-align: middle;\n",
       "    }\n",
       "\n",
       "    .dataframe tbody tr th {\n",
       "        vertical-align: top;\n",
       "    }\n",
       "\n",
       "    .dataframe thead th {\n",
       "        text-align: right;\n",
       "    }\n",
       "</style>\n",
       "<table border=\"1\" class=\"dataframe\">\n",
       "  <thead>\n",
       "    <tr style=\"text-align: right;\">\n",
       "      <th></th>\n",
       "      <th>time_minutes</th>\n",
       "      <th>version</th>\n",
       "    </tr>\n",
       "  </thead>\n",
       "  <tbody>\n",
       "    <tr>\n",
       "      <th>0</th>\n",
       "      <td>12.90</td>\n",
       "      <td>old</td>\n",
       "    </tr>\n",
       "    <tr>\n",
       "      <th>1</th>\n",
       "      <td>13.76</td>\n",
       "      <td>old</td>\n",
       "    </tr>\n",
       "    <tr>\n",
       "      <th>2</th>\n",
       "      <td>15.68</td>\n",
       "      <td>old</td>\n",
       "    </tr>\n",
       "    <tr>\n",
       "      <th>3</th>\n",
       "      <td>16.28</td>\n",
       "      <td>old</td>\n",
       "    </tr>\n",
       "    <tr>\n",
       "      <th>4</th>\n",
       "      <td>16.88</td>\n",
       "      <td>old</td>\n",
       "    </tr>\n",
       "  </tbody>\n",
       "</table>\n",
       "</div>"
      ],
      "text/plain": [
       "   time_minutes version\n",
       "0         12.90     old\n",
       "1         13.76     old\n",
       "2         15.68     old\n",
       "3         16.28     old\n",
       "4         16.88     old"
      ]
     },
     "execution_count": 64,
     "metadata": {},
     "output_type": "execute_result"
    }
   ],
   "source": [
    "sample2_old = sample2[sample2.version == 'old'].reset_index(drop=True)\n",
    "sample2_old.head()"
   ]
  },
  {
   "cell_type": "code",
   "execution_count": 296,
   "id": "83cfe78c-f736-46cb-af8a-44da39112dc0",
   "metadata": {},
   "outputs": [],
   "source": [
    "# Sample length of two flower population.\n",
    "sample3_a = [1.53021758, 0.70571215, 2.01610148, 1.14367405, 0.93970563,\n",
    "             1.74358147, 1.72979421, 0.99173825, 1.30784819, 0.18865752,\n",
    "             1.92501786, 1.79597301, 1.77666206, 0.54937259, 1.13296132,\n",
    "             1.40105918, 1.60272671, 1.44154697, 1.9605791 , 0.52757822,\n",
    "             1.19867684, 0.99201533]\n",
    "\n",
    "sample3_b = [1.65802641, 1.76603167, 1.89544547, 1.45920841, 1.80266623,\n",
    "             0.80989183, 1.54506744, 1.85769076, 1.48064793, 1.7310313 ,\n",
    "             1.91207357, 1.71378148, 1.70911519, 1.56339253, 1.63741389,\n",
    "             1.50316156, 1.85250241, 2.15778815, 1.62285988, 1.43006622,\n",
    "             1.61084258, 0.97720672, 1.67433766, 1.03085296]"
   ]
  },
  {
   "cell_type": "code",
   "execution_count": 66,
   "id": "240307fa-e2ce-4f1f-9fbc-2d4d9cfe3d88",
   "metadata": {
    "collapsed": true,
    "jupyter": {
     "outputs_hidden": true
    },
    "tags": []
   },
   "outputs": [
    {
     "data": {
      "text/html": [
       "<div>\n",
       "<style scoped>\n",
       "    .dataframe tbody tr th:only-of-type {\n",
       "        vertical-align: middle;\n",
       "    }\n",
       "\n",
       "    .dataframe tbody tr th {\n",
       "        vertical-align: top;\n",
       "    }\n",
       "\n",
       "    .dataframe thead th {\n",
       "        text-align: right;\n",
       "    }\n",
       "</style>\n",
       "<table border=\"1\" class=\"dataframe\">\n",
       "  <thead>\n",
       "    <tr style=\"text-align: right;\">\n",
       "      <th></th>\n",
       "      <th>Page</th>\n",
       "      <th>Time</th>\n",
       "    </tr>\n",
       "  </thead>\n",
       "  <tbody>\n",
       "    <tr>\n",
       "      <th>0</th>\n",
       "      <td>Page A</td>\n",
       "      <td>21.0</td>\n",
       "    </tr>\n",
       "    <tr>\n",
       "      <th>1</th>\n",
       "      <td>Page B</td>\n",
       "      <td>253.0</td>\n",
       "    </tr>\n",
       "    <tr>\n",
       "      <th>2</th>\n",
       "      <td>Page A</td>\n",
       "      <td>35.0</td>\n",
       "    </tr>\n",
       "    <tr>\n",
       "      <th>3</th>\n",
       "      <td>Page B</td>\n",
       "      <td>71.0</td>\n",
       "    </tr>\n",
       "    <tr>\n",
       "      <th>4</th>\n",
       "      <td>Page A</td>\n",
       "      <td>67.0</td>\n",
       "    </tr>\n",
       "  </tbody>\n",
       "</table>\n",
       "</div>"
      ],
      "text/plain": [
       "     Page   Time\n",
       "0  Page A   21.0\n",
       "1  Page B  253.0\n",
       "2  Page A   35.0\n",
       "3  Page B   71.0\n",
       "4  Page A   67.0"
      ]
     },
     "execution_count": 66,
     "metadata": {},
     "output_type": "execute_result"
    }
   ],
   "source": [
    "url = 'https://drive.google.com/file/d/1nYRMCgv3OKaiIUDBPgq-EnE2sWhgrJI3/view?usp=sharing' \n",
    "path = 'https://drive.google.com/uc?export=download&id='+url.split('/')[-2]\n",
    "sample4 = pd.read_csv(path)\n",
    "sample4.head()"
   ]
  },
  {
   "cell_type": "code",
   "execution_count": 68,
   "id": "2dfe35b1-1a34-461c-b015-2390b9c70467",
   "metadata": {
    "collapsed": true,
    "jupyter": {
     "outputs_hidden": true
    },
    "tags": []
   },
   "outputs": [
    {
     "data": {
      "text/html": [
       "<div>\n",
       "<style scoped>\n",
       "    .dataframe tbody tr th:only-of-type {\n",
       "        vertical-align: middle;\n",
       "    }\n",
       "\n",
       "    .dataframe tbody tr th {\n",
       "        vertical-align: top;\n",
       "    }\n",
       "\n",
       "    .dataframe thead th {\n",
       "        text-align: right;\n",
       "    }\n",
       "</style>\n",
       "<table border=\"1\" class=\"dataframe\">\n",
       "  <thead>\n",
       "    <tr style=\"text-align: right;\">\n",
       "      <th></th>\n",
       "      <th>Page</th>\n",
       "      <th>Time</th>\n",
       "    </tr>\n",
       "  </thead>\n",
       "  <tbody>\n",
       "    <tr>\n",
       "      <th>0</th>\n",
       "      <td>Page A</td>\n",
       "      <td>21.0</td>\n",
       "    </tr>\n",
       "    <tr>\n",
       "      <th>1</th>\n",
       "      <td>Page A</td>\n",
       "      <td>35.0</td>\n",
       "    </tr>\n",
       "    <tr>\n",
       "      <th>2</th>\n",
       "      <td>Page A</td>\n",
       "      <td>67.0</td>\n",
       "    </tr>\n",
       "    <tr>\n",
       "      <th>3</th>\n",
       "      <td>Page A</td>\n",
       "      <td>211.0</td>\n",
       "    </tr>\n",
       "    <tr>\n",
       "      <th>4</th>\n",
       "      <td>Page A</td>\n",
       "      <td>132.0</td>\n",
       "    </tr>\n",
       "  </tbody>\n",
       "</table>\n",
       "</div>"
      ],
      "text/plain": [
       "     Page   Time\n",
       "0  Page A   21.0\n",
       "1  Page A   35.0\n",
       "2  Page A   67.0\n",
       "3  Page A  211.0\n",
       "4  Page A  132.0"
      ]
     },
     "execution_count": 68,
     "metadata": {},
     "output_type": "execute_result"
    }
   ],
   "source": [
    "sample4_A = sample4[sample4.Page == 'Page A'].reset_index(drop=True)\n",
    "sample4_A.head()"
   ]
  },
  {
   "cell_type": "code",
   "execution_count": 69,
   "id": "9f23e47e-24f5-4e9b-952f-dd82c5e107b3",
   "metadata": {
    "collapsed": true,
    "jupyter": {
     "outputs_hidden": true
    },
    "tags": []
   },
   "outputs": [
    {
     "data": {
      "text/html": [
       "<div>\n",
       "<style scoped>\n",
       "    .dataframe tbody tr th:only-of-type {\n",
       "        vertical-align: middle;\n",
       "    }\n",
       "\n",
       "    .dataframe tbody tr th {\n",
       "        vertical-align: top;\n",
       "    }\n",
       "\n",
       "    .dataframe thead th {\n",
       "        text-align: right;\n",
       "    }\n",
       "</style>\n",
       "<table border=\"1\" class=\"dataframe\">\n",
       "  <thead>\n",
       "    <tr style=\"text-align: right;\">\n",
       "      <th></th>\n",
       "      <th>Page</th>\n",
       "      <th>Time</th>\n",
       "    </tr>\n",
       "  </thead>\n",
       "  <tbody>\n",
       "    <tr>\n",
       "      <th>0</th>\n",
       "      <td>Page B</td>\n",
       "      <td>253.0</td>\n",
       "    </tr>\n",
       "    <tr>\n",
       "      <th>1</th>\n",
       "      <td>Page B</td>\n",
       "      <td>71.0</td>\n",
       "    </tr>\n",
       "    <tr>\n",
       "      <th>2</th>\n",
       "      <td>Page B</td>\n",
       "      <td>85.0</td>\n",
       "    </tr>\n",
       "    <tr>\n",
       "      <th>3</th>\n",
       "      <td>Page B</td>\n",
       "      <td>246.0</td>\n",
       "    </tr>\n",
       "    <tr>\n",
       "      <th>4</th>\n",
       "      <td>Page B</td>\n",
       "      <td>149.0</td>\n",
       "    </tr>\n",
       "  </tbody>\n",
       "</table>\n",
       "</div>"
      ],
      "text/plain": [
       "     Page   Time\n",
       "0  Page B  253.0\n",
       "1  Page B   71.0\n",
       "2  Page B   85.0\n",
       "3  Page B  246.0\n",
       "4  Page B  149.0"
      ]
     },
     "execution_count": 69,
     "metadata": {},
     "output_type": "execute_result"
    }
   ],
   "source": [
    "sample4_B = sample4[sample4.Page == 'Page B'].reset_index(drop=True)\n",
    "sample4_B.head()"
   ]
  },
  {
   "cell_type": "code",
   "execution_count": 73,
   "id": "f6abd1b1-13d4-45aa-b5a2-2316b49c578c",
   "metadata": {},
   "outputs": [
    {
     "data": {
      "text/plain": [
       "1.0963106120479715"
      ]
     },
     "execution_count": 73,
     "metadata": {},
     "output_type": "execute_result"
    }
   ],
   "source": [
    "# sample2 groups have approx. equal standard deviation\n",
    "np.std(sample2_new.time_minutes)/np.std(sample2_old.time_minutes)   "
   ]
  },
  {
   "cell_type": "code",
   "execution_count": 81,
   "id": "24659e5a-1e9a-49cf-822c-d3048fd6a3bf",
   "metadata": {},
   "outputs": [
    {
     "data": {
      "image/png": "[encoded data removed]",
      "text/plain": [
       "<Figure size 720x432 with 1 Axes>"
      ]
     },
     "metadata": {
      "needs_background": "light"
     },
     "output_type": "display_data"
    }
   ],
   "source": [
    "# data is approx. normally distributed for all samples.\n",
    "plt.figure(figsize=(10, 6))\n",
    "plt.hist(sample2_new.time_minutes, bins=10, alpha=0.5, label='new')\n",
    "plt.hist(sample2_old.time_minutes, bins=10, alpha=0.5, label='old')\n",
    "plt.legend()\n",
    "plt.show();"
   ]
  },
  {
   "cell_type": "code",
   "execution_count": 93,
   "id": "263bb8c7-0183-4bd6-b50e-9f528cf82b29",
   "metadata": {},
   "outputs": [
    {
     "data": {
      "text/plain": [
       "1.6665588758491474"
      ]
     },
     "execution_count": 93,
     "metadata": {},
     "output_type": "execute_result"
    }
   ],
   "source": [
    "# sample3 groups does not have approx. equal standard deviation\n",
    "np.std(sample3_a)/np.std(sample3_b) "
   ]
  },
  {
   "cell_type": "code",
   "execution_count": 92,
   "id": "500b4b99-9f4e-4c7d-a7db-96916f370396",
   "metadata": {},
   "outputs": [
    {
     "data": {
      "image/png": "[encoded data removed]",
      "text/plain": [
       "<Figure size 720x432 with 1 Axes>"
      ]
     },
     "metadata": {
      "needs_background": "light"
     },
     "output_type": "display_data"
    }
   ],
   "source": [
    "# groups are not approx. normally distributed for all samples.\n",
    "plt.figure(figsize=(10, 6))\n",
    "plt.hist(sample3_a, bins=5, alpha=0.5, label='a')\n",
    "plt.hist(sample3_b, bins=5, alpha=0.5, label='b')\n",
    "plt.legend()\n",
    "plt.show();"
   ]
  },
  {
   "cell_type": "code",
   "execution_count": 97,
   "id": "450d8147-2570-4112-90f6-23cd12b38588",
   "metadata": {},
   "outputs": [
    {
     "data": {
      "text/plain": [
       "0.883572099018151"
      ]
     },
     "execution_count": 97,
     "metadata": {},
     "output_type": "execute_result"
    }
   ],
   "source": [
    "# sample4 groups does have approx. equal standard deviation\n",
    "np.std(sample4_A.Time)/np.std(sample4_B.Time) "
   ]
  },
  {
   "cell_type": "code",
   "execution_count": 98,
   "id": "a759a708-2685-4b75-afec-9112e0103994",
   "metadata": {},
   "outputs": [
    {
     "data": {
      "image/png": "[encoded data removed]",
      "text/plain": [
       "<Figure size 720x432 with 1 Axes>"
      ]
     },
     "metadata": {
      "needs_background": "light"
     },
     "output_type": "display_data"
    }
   ],
   "source": [
    "# sample4 groups are not approx. normally distributed for all samples.\n",
    "plt.figure(figsize=(10, 6))\n",
    "plt.hist(sample4_A.Time, bins=5, alpha=0.5, label='A')\n",
    "plt.hist(sample4_B.Time, bins=5, alpha=0.5, label='B')\n",
    "plt.legend()\n",
    "plt.show();"
   ]
  },
  {
   "cell_type": "markdown",
   "id": "6ba90137-c1c4-400d-9ceb-5545a5ca1f24",
   "metadata": {},
   "source": [
    "##### **Strategy for normally distributed and approx. equal standard deviation**"
   ]
  },
  {
   "cell_type": "code",
   "execution_count": 100,
   "id": "39e28706-4988-4ecf-8e7b-7c868da327f6",
   "metadata": {},
   "outputs": [
    {
     "name": "stdout",
     "output_type": "stream",
     "text": [
      "0.0020408264429903995\n"
     ]
    }
   ],
   "source": [
    "tstat, pval = stats.ttest_ind(sample2_new.time_minutes, sample2_old.time_minutes)\n",
    "print(pval)"
   ]
  },
  {
   "cell_type": "markdown",
   "id": "e5ca58c0-8c24-4494-acdd-1074279d119c",
   "metadata": {},
   "source": [
    "    Based on this pval, the pval is significant and therefore the null hypothesis is rejected."
   ]
  },
  {
   "cell_type": "markdown",
   "id": "684dcdef-e752-47b9-9454-28c9606acb7f",
   "metadata": {},
   "source": [
    "##### **Strategy for not normally distributed and/or not approx. equal standard deviation**"
   ]
  },
  {
   "cell_type": "markdown",
   "id": "8165b34e-2397-49ed-b4e1-8ff0edcafcfd",
   "metadata": {},
   "source": [
    "##### **Hacker's Approach**"
   ]
  },
  {
   "cell_type": "code",
   "execution_count": 106,
   "id": "c982c9e4-615a-46bb-9fc2-466fdf9b9bd0",
   "metadata": {},
   "outputs": [
    {
     "data": {
      "text/plain": [
       "1.300054532727273"
      ]
     },
     "execution_count": 106,
     "metadata": {},
     "output_type": "execute_result"
    }
   ],
   "source": [
    "sample3_a_mean = np.mean(sample3_a)\n",
    "sample3_a_mean"
   ]
  },
  {
   "cell_type": "code",
   "execution_count": 107,
   "id": "4edea0db-2344-43e5-a521-28ed6bfcae9b",
   "metadata": {},
   "outputs": [
    {
     "data": {
      "text/plain": [
       "1.6000459270833332"
      ]
     },
     "execution_count": 107,
     "metadata": {},
     "output_type": "execute_result"
    }
   ],
   "source": [
    "sample3_b_mean = np.mean(sample3_b)\n",
    "sample3_b_mean"
   ]
  },
  {
   "cell_type": "code",
   "execution_count": 116,
   "id": "34667c29-a308-47a1-b058-8cf81d3b3e79",
   "metadata": {},
   "outputs": [
    {
     "data": {
      "text/plain": [
       "0.29999139435606015"
      ]
     },
     "execution_count": 116,
     "metadata": {},
     "output_type": "execute_result"
    }
   ],
   "source": [
    "diff = sample3_b_mean - sample3_a_mean\n",
    "diff"
   ]
  },
  {
   "cell_type": "code",
   "execution_count": 118,
   "id": "d34bc9fd-f6de-4e3f-a617-8e6c8f889256",
   "metadata": {
    "tags": []
   },
   "outputs": [
    {
     "name": "stdout",
     "output_type": "stream",
     "text": [
      "number of extreme cases: 198\n",
      "p value: 0.0198\n"
     ]
    }
   ],
   "source": [
    "# concatenate the groups, perform permutation to develop sample mean difference distribution\n",
    "sample3_concat = pd.Series(np.concatenate([np.array(sample3_a), np.array(sample3_b)]))\n",
    "mean_diff = []\n",
    "iterations = 10000\n",
    "\n",
    "for num in range(iterations):\n",
    "    sample3_concat1 = sample3_concat.sample(len(sample3_a))\n",
    "    sample3_concat2 = sample3_concat[~sample3_concat.index.isin(sample3_concat1.index)]\n",
    "    \n",
    "    mean_diff.append(sample3_concat1.mean() - sample3_concat2.mean())\n",
    "\n",
    "    \n",
    "count = 0\n",
    "    \n",
    "for elem in mean_diff:\n",
    "    if (elem < -diff) | (elem > diff):\n",
    "        count += 1\n",
    "\n",
    "print(\"number of extreme cases:\", count)\n",
    "print(\"p value:\", count / iterations)"
   ]
  },
  {
   "cell_type": "code",
   "execution_count": 133,
   "id": "2a5ef940-c0a8-4052-8078-656481087ee3",
   "metadata": {},
   "outputs": [
    {
     "data": {
      "text/plain": [
       "array([-0.25846215,  0.24890018])"
      ]
     },
     "execution_count": 133,
     "metadata": {},
     "output_type": "execute_result"
    }
   ],
   "source": [
    "confid_interval = np.percentile(mean_diff, [2.5, 97.5])\n",
    "confid_interval"
   ]
  },
  {
   "cell_type": "code",
   "execution_count": 135,
   "id": "545ecaa3-ee18-40a2-baa2-f3199682b3c9",
   "metadata": {},
   "outputs": [
    {
     "data": {
      "text/plain": [
       "[-0.2564566311116654, 0.25055549020881696]"
      ]
     },
     "execution_count": 135,
     "metadata": {},
     "output_type": "execute_result"
    }
   ],
   "source": [
    "confid_interval = [np.mean(mean_diff) - 1.96*np.std(mean_diff), np.mean(mean_diff) + 1.96*np.std(mean_diff)]\n",
    "confid_interval"
   ]
  },
  {
   "cell_type": "code",
   "execution_count": 124,
   "id": "35fb3142-2903-4ad5-9386-930cd78adfbf",
   "metadata": {
    "tags": []
   },
   "outputs": [
    {
     "data": {
      "image/png": "[encoded data removed]",
      "text/plain": [
       "<Figure size 864x576 with 1 Axes>"
      ]
     },
     "metadata": {
      "needs_background": "light"
     },
     "output_type": "display_data"
    }
   ],
   "source": [
    "plt.figure(figsize=(12, 8))\n",
    "plt.hist(mean_diff, bins=50);\n",
    "plt.axvline(np.mean(mean_diff), linestyle='--', color='white');\n",
    "plt.axvline(diff, linestyle='--', color='red');\n",
    "plt.axvline(-diff, linestyle='--', color='red');\n",
    "plt.title(\"Difference of the means in permutations\");\n",
    "plt.show();"
   ]
  },
  {
   "cell_type": "markdown",
   "id": "f4eceafd-5da7-4778-9fb7-275a5511592a",
   "metadata": {},
   "source": [
    "##### **Welch's t-test Approach**"
   ]
  },
  {
   "cell_type": "code",
   "execution_count": 149,
   "id": "e1ea697f-2608-44e0-9c5b-84f0f04a9d19",
   "metadata": {},
   "outputs": [
    {
     "name": "stdout",
     "output_type": "stream",
     "text": [
      "0.0211 is a significant value, therefore the null hypothesis is rejected\n"
     ]
    }
   ],
   "source": [
    "tstat, pval = stats.ttest_ind(sample3_a, sample3_b, equal_var=False, permutations=10000, random_state=30)\n",
    "print(pval, 'is a significant value, therefore the null hypothesis is rejected')"
   ]
  },
  {
   "cell_type": "code",
   "execution_count": 150,
   "id": "aaadf585-8e61-4acc-97cd-721fd34970fa",
   "metadata": {},
   "outputs": [
    {
     "name": "stdout",
     "output_type": "stream",
     "text": [
      "0.2779 is not a significant value, therefore the null hypothesis is accepted\n"
     ]
    }
   ],
   "source": [
    "tstat, pval = stats.ttest_ind(sample4_A.Time, sample4_B.Time, equal_var=False, permutations=10000, random_state=50)\n",
    "print(pval, 'is not a significant value, therefore the null hypothesis is accepted')"
   ]
  },
  {
   "cell_type": "markdown",
   "id": "4fbb01e1-b9ae-4234-951a-cd4a373c90fd",
   "metadata": {},
   "source": [
    "### **ANOVA Test** "
   ]
  },
  {
   "cell_type": "markdown",
   "id": "ed8d1193-593a-405e-852a-c5ee845b0a21",
   "metadata": {},
   "source": [
    "    Investigate an association between a quantitative variable and a non-binary categorical variable.\n",
    "    \n",
    "    Holds the same assumptions as 2-sample t-test."
   ]
  },
  {
   "cell_type": "code",
   "execution_count": 152,
   "id": "3d56a318-d542-417d-a6e8-44f8f677d89c",
   "metadata": {
    "collapsed": true,
    "jupyter": {
     "outputs_hidden": true
    },
    "tags": []
   },
   "outputs": [
    {
     "data": {
      "text/html": [
       "<div>\n",
       "<style scoped>\n",
       "    .dataframe tbody tr th:only-of-type {\n",
       "        vertical-align: middle;\n",
       "    }\n",
       "\n",
       "    .dataframe tbody tr th {\n",
       "        vertical-align: top;\n",
       "    }\n",
       "\n",
       "    .dataframe thead th {\n",
       "        text-align: right;\n",
       "    }\n",
       "</style>\n",
       "<table border=\"1\" class=\"dataframe\">\n",
       "  <thead>\n",
       "    <tr style=\"text-align: right;\">\n",
       "      <th></th>\n",
       "      <th>Sale</th>\n",
       "      <th>Store</th>\n",
       "    </tr>\n",
       "  </thead>\n",
       "  <tbody>\n",
       "    <tr>\n",
       "      <th>0</th>\n",
       "      <td>73.57</td>\n",
       "      <td>A</td>\n",
       "    </tr>\n",
       "    <tr>\n",
       "      <th>1</th>\n",
       "      <td>38.37</td>\n",
       "      <td>A</td>\n",
       "    </tr>\n",
       "    <tr>\n",
       "      <th>2</th>\n",
       "      <td>49.36</td>\n",
       "      <td>A</td>\n",
       "    </tr>\n",
       "    <tr>\n",
       "      <th>3</th>\n",
       "      <td>61.96</td>\n",
       "      <td>A</td>\n",
       "    </tr>\n",
       "    <tr>\n",
       "      <th>4</th>\n",
       "      <td>38.74</td>\n",
       "      <td>A</td>\n",
       "    </tr>\n",
       "    <tr>\n",
       "      <th>...</th>\n",
       "      <td>...</td>\n",
       "      <td>...</td>\n",
       "    </tr>\n",
       "    <tr>\n",
       "      <th>445</th>\n",
       "      <td>65.98</td>\n",
       "      <td>C</td>\n",
       "    </tr>\n",
       "    <tr>\n",
       "      <th>446</th>\n",
       "      <td>50.51</td>\n",
       "      <td>C</td>\n",
       "    </tr>\n",
       "    <tr>\n",
       "      <th>447</th>\n",
       "      <td>46.77</td>\n",
       "      <td>C</td>\n",
       "    </tr>\n",
       "    <tr>\n",
       "      <th>448</th>\n",
       "      <td>70.39</td>\n",
       "      <td>C</td>\n",
       "    </tr>\n",
       "    <tr>\n",
       "      <th>449</th>\n",
       "      <td>42.06</td>\n",
       "      <td>C</td>\n",
       "    </tr>\n",
       "  </tbody>\n",
       "</table>\n",
       "<p>450 rows × 2 columns</p>\n",
       "</div>"
      ],
      "text/plain": [
       "      Sale Store\n",
       "0    73.57     A\n",
       "1    38.37     A\n",
       "2    49.36     A\n",
       "3    61.96     A\n",
       "4    38.74     A\n",
       "..     ...   ...\n",
       "445  65.98     C\n",
       "446  50.51     C\n",
       "447  46.77     C\n",
       "448  70.39     C\n",
       "449  42.06     C\n",
       "\n",
       "[450 rows x 2 columns]"
      ]
     },
     "execution_count": 152,
     "metadata": {},
     "output_type": "execute_result"
    }
   ],
   "source": [
    "sample5 = pd.read_csv('variants.txt', engine='python', sep=',')\n",
    "sample5"
   ]
  },
  {
   "cell_type": "code",
   "execution_count": 153,
   "id": "f2a11b0a-2b05-44e2-85fc-1d1a10f0f7d9",
   "metadata": {},
   "outputs": [],
   "source": [
    "sample5_A = sample5[sample5.Store == 'A']\n",
    "sample5_B = sample5[sample5.Store == 'B']\n",
    "sample5_C = sample5[sample5.Store == 'C']"
   ]
  },
  {
   "cell_type": "code",
   "execution_count": 154,
   "id": "b469163b-eb40-44f2-bd1c-659cbbeaa4a9",
   "metadata": {},
   "outputs": [
    {
     "data": {
      "text/plain": [
       "1.0004942059663018"
      ]
     },
     "execution_count": 154,
     "metadata": {},
     "output_type": "execute_result"
    }
   ],
   "source": [
    "np.std(sample5_A.Sale)/np.std(sample5_B.Sale)"
   ]
  },
  {
   "cell_type": "code",
   "execution_count": 155,
   "id": "8c9de6df-22cf-4d36-b2ab-1e602c585f1f",
   "metadata": {},
   "outputs": [
    {
     "data": {
      "text/plain": [
       "1.0234221979860356"
      ]
     },
     "execution_count": 155,
     "metadata": {},
     "output_type": "execute_result"
    }
   ],
   "source": [
    "np.std(sample5_C.Sale)/np.std(sample5_B.Sale)"
   ]
  },
  {
   "cell_type": "code",
   "execution_count": 157,
   "id": "60611ff3-7e0d-4594-a111-00ff04dd8a89",
   "metadata": {},
   "outputs": [
    {
     "data": {
      "text/plain": [
       "1.0229166664664384"
      ]
     },
     "execution_count": 157,
     "metadata": {},
     "output_type": "execute_result"
    }
   ],
   "source": [
    "np.std(sample5_C.Sale)/np.std(sample5_A.Sale)"
   ]
  },
  {
   "cell_type": "code",
   "execution_count": 159,
   "id": "9ef6040b-bb7f-4ab1-bcd3-cba1d7dfd5f1",
   "metadata": {},
   "outputs": [
    {
     "data": {
      "image/png": "[encoded data removed]",
      "text/plain": [
       "<Figure size 720x432 with 1 Axes>"
      ]
     },
     "metadata": {
      "needs_background": "light"
     },
     "output_type": "display_data"
    }
   ],
   "source": [
    "plt.figure(figsize=(10, 6))\n",
    "plt.hist(sample5_A.Sale, bins=5, alpha=0.5, label='A')\n",
    "plt.hist(sample5_B.Sale, bins=5, alpha=0.5, label='B')\n",
    "plt.hist(sample5_C.Sale, bins=5, alpha=0.5, label='C')\n",
    "plt.legend()\n",
    "plt.show();"
   ]
  },
  {
   "cell_type": "code",
   "execution_count": 163,
   "id": "b28ea58e-ec20-4b94-b4aa-5e965499efed",
   "metadata": {},
   "outputs": [
    {
     "name": "stdout",
     "output_type": "stream",
     "text": [
      "0.00015355234908845413 is significant. This pval shows that at least one of the group pairs behaves differently.\n"
     ]
    }
   ],
   "source": [
    "fstat, pval = stats.f_oneway(sample5_A.Sale, sample5_B.Sale, sample5_C.Sale)\n",
    "print(pval, 'is significant. This pval shows that at least one of the group pairs behaves differently.')"
   ]
  },
  {
   "cell_type": "markdown",
   "id": "4a68d8ed-60a8-4f4f-a905-6192aad6a553",
   "metadata": {},
   "source": [
    "### **Tukey's Range Test**"
   ]
  },
  {
   "cell_type": "markdown",
   "id": "3a48fe2d-5e58-4f92-99bb-c6242f9c1934",
   "metadata": {},
   "source": [
    "    Used to find the group pairs which are significantly different.\n",
    "    \n",
    "    Holds same assumption as the ANOVA test."
   ]
  },
  {
   "cell_type": "code",
   "execution_count": 170,
   "id": "e4da048e-fb5d-4444-8509-18d74bd19487",
   "metadata": {},
   "outputs": [
    {
     "name": "stdout",
     "output_type": "stream",
     "text": [
      "Multiple Comparison of Means - Tukey HSD, FWER=0.05 \n",
      "====================================================\n",
      "group1 group2 meandiff p-adj   lower   upper  reject\n",
      "----------------------------------------------------\n",
      "     A      B   7.2763 0.0001  3.2264 11.3263   True\n",
      "     A      C    4.011 0.0529 -0.0389  8.0609  False\n",
      "     B      C  -3.2653  0.141 -7.3153  0.7846  False\n",
      "----------------------------------------------------\n"
     ]
    }
   ],
   "source": [
    "from statsmodels.stats.multicomp import pairwise_tukeyhsd\n",
    "\n",
    "tukey_results = pairwise_tukeyhsd(sample5.Sale, sample5.Store, 0.05)\n",
    "print(tukey_results)"
   ]
  },
  {
   "cell_type": "code",
   "execution_count": 174,
   "id": "3d6b6e79-1199-4462-8a51-d363a14a2ec1",
   "metadata": {},
   "outputs": [
    {
     "name": "stdout",
     "output_type": "stream",
     "text": [
      "Tukey's HSD Pairwise Group Comparisons (95.0% Confidence Interval)\n",
      "Comparison  Statistic  p-value  Lower CI  Upper CI\n",
      " (0 - 1)     -7.276     0.000   -11.326    -3.226\n",
      " (0 - 2)     -4.011     0.053    -8.061     0.039\n",
      " (1 - 0)      7.276     0.000     3.226    11.326\n",
      " (1 - 2)      3.265     0.141    -0.785     7.315\n",
      " (2 - 0)      4.011     0.053    -0.039     8.061\n",
      " (2 - 1)     -3.265     0.141    -7.315     0.785\n",
      "\n"
     ]
    }
   ],
   "source": [
    "tukey_results = stats.tukey_hsd(sample5_A.Sale, sample5_B.Sale, sample5_C.Sale)\n",
    "print(tukey_results)"
   ]
  },
  {
   "cell_type": "markdown",
   "id": "604884dc-d860-45c6-8f69-03b8560647fd",
   "metadata": {},
   "source": [
    "    Based on the Tukey test, A & B are quite different and therefore, rejects the null hypothesis, while A & C, and B & C are similar and therefore accept the null hypothesis."
   ]
  },
  {
   "cell_type": "markdown",
   "id": "f078ed21-86ff-439d-9f67-2afab650b5e9",
   "metadata": {},
   "source": [
    "### **Chi-Square Test**"
   ]
  },
  {
   "cell_type": "markdown",
   "id": "7104d485-4bb8-47b6-8795-b8b37b03a34b",
   "metadata": {},
   "source": [
    "    Investigates whether there is an association between two categorical variables.\n",
    "    \n",
    "    Holds same assumptions as the 2-sample t-test."
   ]
  },
  {
   "cell_type": "markdown",
   "id": "e295fdc3-110d-4d50-b468-c3cf89561e28",
   "metadata": {},
   "source": [
    "**Ant Product Popularity**"
   ]
  },
  {
   "cell_type": "markdown",
   "id": "d0ba985a-5096-4f9e-bc2a-f3bbfacd5092",
   "metadata": {},
   "source": [
    "    Determine the popularity of Ants product among graders."
   ]
  },
  {
   "cell_type": "markdown",
   "id": "2493a246-6b68-4cff-b0eb-e435050f731d",
   "metadata": {},
   "source": [
    "##### **Import Data**"
   ]
  },
  {
   "cell_type": "code",
   "execution_count": 175,
   "id": "0331c260-4b9d-4cb9-ba17-2b7855ab6d23",
   "metadata": {
    "collapsed": true,
    "jupyter": {
     "outputs_hidden": true
    },
    "tags": []
   },
   "outputs": [
    {
     "data": {
      "text/html": [
       "<div>\n",
       "<style scoped>\n",
       "    .dataframe tbody tr th:only-of-type {\n",
       "        vertical-align: middle;\n",
       "    }\n",
       "\n",
       "    .dataframe tbody tr th {\n",
       "        vertical-align: top;\n",
       "    }\n",
       "\n",
       "    .dataframe thead th {\n",
       "        text-align: right;\n",
       "    }\n",
       "</style>\n",
       "<table border=\"1\" class=\"dataframe\">\n",
       "  <thead>\n",
       "    <tr style=\"text-align: right;\">\n",
       "      <th></th>\n",
       "      <th>Grade</th>\n",
       "      <th>Ant</th>\n",
       "    </tr>\n",
       "  </thead>\n",
       "  <tbody>\n",
       "    <tr>\n",
       "      <th>0</th>\n",
       "      <td>1st</td>\n",
       "      <td>harvester</td>\n",
       "    </tr>\n",
       "    <tr>\n",
       "      <th>1</th>\n",
       "      <td>2nd</td>\n",
       "      <td>harvester</td>\n",
       "    </tr>\n",
       "    <tr>\n",
       "      <th>2</th>\n",
       "      <td>2nd</td>\n",
       "      <td>leaf cutter</td>\n",
       "    </tr>\n",
       "    <tr>\n",
       "      <th>3</th>\n",
       "      <td>1st</td>\n",
       "      <td>harvester</td>\n",
       "    </tr>\n",
       "    <tr>\n",
       "      <th>4</th>\n",
       "      <td>3rd</td>\n",
       "      <td>leaf cutter</td>\n",
       "    </tr>\n",
       "    <tr>\n",
       "      <th>...</th>\n",
       "      <td>...</td>\n",
       "      <td>...</td>\n",
       "    </tr>\n",
       "    <tr>\n",
       "      <th>103</th>\n",
       "      <td>3rd</td>\n",
       "      <td>harvester</td>\n",
       "    </tr>\n",
       "    <tr>\n",
       "      <th>104</th>\n",
       "      <td>3rd</td>\n",
       "      <td>harvester</td>\n",
       "    </tr>\n",
       "    <tr>\n",
       "      <th>105</th>\n",
       "      <td>3rd</td>\n",
       "      <td>harvester</td>\n",
       "    </tr>\n",
       "    <tr>\n",
       "      <th>106</th>\n",
       "      <td>3rd</td>\n",
       "      <td>harvester</td>\n",
       "    </tr>\n",
       "    <tr>\n",
       "      <th>107</th>\n",
       "      <td>3rd</td>\n",
       "      <td>harvester</td>\n",
       "    </tr>\n",
       "  </tbody>\n",
       "</table>\n",
       "<p>108 rows × 2 columns</p>\n",
       "</div>"
      ],
      "text/plain": [
       "    Grade          Ant\n",
       "0     1st    harvester\n",
       "1     2nd    harvester\n",
       "2     2nd  leaf cutter\n",
       "3     1st    harvester\n",
       "4     3rd  leaf cutter\n",
       "..    ...          ...\n",
       "103   3rd    harvester\n",
       "104   3rd    harvester\n",
       "105   3rd    harvester\n",
       "106   3rd    harvester\n",
       "107   3rd    harvester\n",
       "\n",
       "[108 rows x 2 columns]"
      ]
     },
     "execution_count": 175,
     "metadata": {},
     "output_type": "execute_result"
    }
   ],
   "source": [
    "product = pd.read_csv('popular_product.txt', engine='python', sep=',')\n",
    "product"
   ]
  },
  {
   "cell_type": "code",
   "execution_count": 176,
   "id": "e70015c4-47d2-41c9-ac6b-b1198ca26b0b",
   "metadata": {
    "collapsed": true,
    "jupyter": {
     "outputs_hidden": true
    },
    "tags": []
   },
   "outputs": [
    {
     "data": {
      "text/html": [
       "<div>\n",
       "<style scoped>\n",
       "    .dataframe tbody tr th:only-of-type {\n",
       "        vertical-align: middle;\n",
       "    }\n",
       "\n",
       "    .dataframe tbody tr th {\n",
       "        vertical-align: top;\n",
       "    }\n",
       "\n",
       "    .dataframe thead th {\n",
       "        text-align: right;\n",
       "    }\n",
       "</style>\n",
       "<table border=\"1\" class=\"dataframe\">\n",
       "  <thead>\n",
       "    <tr style=\"text-align: right;\">\n",
       "      <th>Ant</th>\n",
       "      <th>harvester</th>\n",
       "      <th>leaf cutter</th>\n",
       "    </tr>\n",
       "    <tr>\n",
       "      <th>Grade</th>\n",
       "      <th></th>\n",
       "      <th></th>\n",
       "    </tr>\n",
       "  </thead>\n",
       "  <tbody>\n",
       "    <tr>\n",
       "      <th>1st</th>\n",
       "      <td>28</td>\n",
       "      <td>8</td>\n",
       "    </tr>\n",
       "    <tr>\n",
       "      <th>2nd</th>\n",
       "      <td>31</td>\n",
       "      <td>5</td>\n",
       "    </tr>\n",
       "    <tr>\n",
       "      <th>3rd</th>\n",
       "      <td>23</td>\n",
       "      <td>13</td>\n",
       "    </tr>\n",
       "  </tbody>\n",
       "</table>\n",
       "</div>"
      ],
      "text/plain": [
       "Ant    harvester  leaf cutter\n",
       "Grade                        \n",
       "1st           28            8\n",
       "2nd           31            5\n",
       "3rd           23           13"
      ]
     },
     "execution_count": 176,
     "metadata": {},
     "output_type": "execute_result"
    }
   ],
   "source": [
    "# prepare contingency table\n",
    "contingency_table = pd.crosstab(product.Grade, product.Ant)\n",
    "contingency_table"
   ]
  },
  {
   "cell_type": "code",
   "execution_count": 182,
   "id": "5b0dc3d6-a8f1-476b-91aa-1bb4d4eca9d2",
   "metadata": {},
   "outputs": [
    {
     "name": "stdout",
     "output_type": "stream",
     "text": [
      "0.08356116834982279 is not significant. Therefore no ant product gives significant effect.\n"
     ]
    }
   ],
   "source": [
    "chi2, pval, dof, expected = stats.chi2_contingency(contingency_table)\n",
    "print(pval, 'is not significant. Therefore no ant product gives significant effect.')"
   ]
  },
  {
   "cell_type": "markdown",
   "id": "ba23223c-11f5-4cde-9043-6444d1d094c0",
   "metadata": {},
   "source": [
    "     "
   ]
  },
  {
   "cell_type": "markdown",
   "id": "b4b4e773-cf55-4ec5-8d48-3967f77c0fb3",
   "metadata": {},
   "source": [
    "**Montana Library Website Case Study**\n",
    "       \n",
    "       Determine if the effect of variation of a button tab influences the click rate."
   ]
  },
  {
   "cell_type": "markdown",
   "id": "be5e84cc-5104-445f-9130-82bc6587cd89",
   "metadata": {},
   "source": [
    "##### **Import Data**"
   ]
  },
  {
   "cell_type": "code",
   "execution_count": 183,
   "id": "06ef67ee-4151-4bf1-8690-73f5bd74c87a",
   "metadata": {},
   "outputs": [],
   "source": [
    "# Element list Homepage Version 1 - Interact, 5-29-2013.csv\n",
    "url = 'https://drive.google.com/file/d/1Tj6Z4OtJqLBOW0z2fvuGS5EhZo8xTVM6/view?usp=sharing' \n",
    "path = 'https://drive.google.com/uc?export=download&id='+url.split('/')[-2]\n",
    "v1 = pd.read_csv(path)\n",
    "\n",
    "# Element list Homepage Version 2 - Connect, 5-29-2013.csv\n",
    "url = 'https://drive.google.com/file/d/1qHBdOjUWvJpN-LTg1z2jpeA3mDXQjdch/view?usp=sharing' \n",
    "path = 'https://drive.google.com/uc?export=download&id='+url.split('/')[-2]\n",
    "v2 = pd.read_csv(path)\n",
    "\n",
    "# Element list Homepage Version 3 - Learn, 5-29-2013.csv\n",
    "url = 'https://drive.google.com/file/d/1g8prRmy3hpVtL6zvkdCwXcgIV0CS48zr/view?usp=sharing' \n",
    "path = 'https://drive.google.com/uc?export=download&id='+url.split('/')[-2]\n",
    "v3 = pd.read_csv(path)\n",
    "\n",
    "# Element list Homepage Version 4 - Help, 5-29-2013.csv\n",
    "url = 'https://drive.google.com/file/d/1I9bjXkxtiILDogeQmsWCCDlQtRZ8OSrs/view?usp=sharing' \n",
    "path = 'https://drive.google.com/uc?export=download&id='+url.split('/')[-2]\n",
    "v4 = pd.read_csv(path)\n",
    "\n",
    "# Element list Homepage Version 5 - Services, 5-29-2013.csv\n",
    "url = 'https://drive.google.com/file/d/1noDp_jpdAL_LGxU3SPDxqP94pUCqisqW/view?usp=sharing' \n",
    "path = 'https://drive.google.com/uc?export=download&id='+url.split('/')[-2]\n",
    "v5 = pd.read_csv(path)"
   ]
  },
  {
   "cell_type": "code",
   "execution_count": 188,
   "id": "fc847d0e-e3a9-40bd-8e35-6c7a3fef381d",
   "metadata": {},
   "outputs": [
    {
     "name": "stdout",
     "output_type": "stream",
     "text": [
      "42 53 21 38 45\n"
     ]
    }
   ],
   "source": [
    "# Obtain the number of clicks for each variation\n",
    "v1_clicks = int(v1[v1.Name == 'INTERACT']['No. clicks'])\n",
    "v2_clicks = int(v2[v2.Name == 'CONNECT']['No. clicks'])\n",
    "v3_clicks = int(v3[v3.Name == 'LEARN']['No. clicks'])\n",
    "v4_clicks = int(v4[v4.Name == 'HELP']['No. clicks'])\n",
    "v5_clicks = int(v5[v5.Name == 'SERVICES']['No. clicks'])\n",
    "\n",
    "print(v1_clicks, v2_clicks, v3_clicks, v4_clicks, v5_clicks)"
   ]
  },
  {
   "cell_type": "code",
   "execution_count": 190,
   "id": "c07d052e-9b0a-404d-bfeb-607ad6bc55b3",
   "metadata": {},
   "outputs": [],
   "source": [
    "# Number of page visits \n",
    "v1_visits = 10283\n",
    "v2_visits = 2742\n",
    "v3_visits = 2747\n",
    "v4_visits = 3180\n",
    "v5_visits = 2064"
   ]
  },
  {
   "cell_type": "code",
   "execution_count": 191,
   "id": "68eb8ba1-d05e-4b3c-86ea-aa9e8e679473",
   "metadata": {},
   "outputs": [],
   "source": [
    "# click-through rates\n",
    "interact_rate = float(v1_clicks / v1_visits)\n",
    "connect_rate = float(v2_clicks / v2_visits)\n",
    "learn_rate = float(v3_clicks / v3_visits)\n",
    "help_rate = float(v4_clicks / v4_visits)\n",
    "services_rate = float(v5_clicks / v5_visits)"
   ]
  },
  {
   "cell_type": "code",
   "execution_count": 211,
   "id": "414d86f0-ac62-4ba3-af4e-2bb64d8018ea",
   "metadata": {
    "tags": []
   },
   "outputs": [],
   "source": [
    "# CTR from worst to best\n",
    "rates = pd.Series([interact_rate, connect_rate, learn_rate, help_rate, services_rate])\n",
    "names = pd.Series([\"Interact\", \"Connect\", \"Learn\", \"Help\", \"Services\"])\n",
    "\n",
    "ctr_df = pd.DataFrame({\"rates\":rates, \"names\":names}).sort_values(\"rates\")\n",
    "ctr_df.sort_values(\"rates\", ascending=False, inplace=True)"
   ]
  },
  {
   "cell_type": "code",
   "execution_count": 212,
   "id": "5dc547ec-59da-40c1-bb35-8790ba8224d9",
   "metadata": {},
   "outputs": [
    {
     "data": {
      "text/html": [
       "<div>\n",
       "<style scoped>\n",
       "    .dataframe tbody tr th:only-of-type {\n",
       "        vertical-align: middle;\n",
       "    }\n",
       "\n",
       "    .dataframe tbody tr th {\n",
       "        vertical-align: top;\n",
       "    }\n",
       "\n",
       "    .dataframe thead th {\n",
       "        text-align: right;\n",
       "    }\n",
       "</style>\n",
       "<table border=\"1\" class=\"dataframe\">\n",
       "  <thead>\n",
       "    <tr style=\"text-align: right;\">\n",
       "      <th></th>\n",
       "      <th>rates</th>\n",
       "      <th>names</th>\n",
       "    </tr>\n",
       "  </thead>\n",
       "  <tbody>\n",
       "    <tr>\n",
       "      <th>4</th>\n",
       "      <td>0.021802</td>\n",
       "      <td>Services</td>\n",
       "    </tr>\n",
       "    <tr>\n",
       "      <th>1</th>\n",
       "      <td>0.019329</td>\n",
       "      <td>Connect</td>\n",
       "    </tr>\n",
       "    <tr>\n",
       "      <th>3</th>\n",
       "      <td>0.011950</td>\n",
       "      <td>Help</td>\n",
       "    </tr>\n",
       "    <tr>\n",
       "      <th>2</th>\n",
       "      <td>0.007645</td>\n",
       "      <td>Learn</td>\n",
       "    </tr>\n",
       "    <tr>\n",
       "      <th>0</th>\n",
       "      <td>0.004084</td>\n",
       "      <td>Interact</td>\n",
       "    </tr>\n",
       "  </tbody>\n",
       "</table>\n",
       "</div>"
      ],
      "text/plain": [
       "      rates     names\n",
       "4  0.021802  Services\n",
       "1  0.019329   Connect\n",
       "3  0.011950      Help\n",
       "2  0.007645     Learn\n",
       "0  0.004084  Interact"
      ]
     },
     "execution_count": 212,
     "metadata": {},
     "output_type": "execute_result"
    }
   ],
   "source": [
    "ctr_df"
   ]
  },
  {
   "cell_type": "code",
   "execution_count": 243,
   "id": "082666b7-bb51-48e5-9828-e8d249496785",
   "metadata": {},
   "outputs": [
    {
     "data": {
      "image/png": "[encoded data removed]",
      "text/plain": [
       "<Figure size 360x432 with 1 Axes>"
      ]
     },
     "metadata": {
      "needs_background": "light"
     },
     "output_type": "display_data"
    }
   ],
   "source": [
    "plt.figure(figsize=(5, 6))\n",
    "plt.bar(ctr_df.names, ctr_df.rates);\n",
    "plt.show();"
   ]
  },
  {
   "cell_type": "code",
   "execution_count": 193,
   "id": "10db684e-5208-4fda-8ab3-c418ee71c212",
   "metadata": {},
   "outputs": [],
   "source": [
    "# no-clicks\n",
    "v1_noclick = v1_visits - v1_clicks\n",
    "v2_noclick = v2_visits - v2_clicks\n",
    "v3_noclick = v3_visits - v3_clicks\n",
    "v4_noclick = v4_visits - v4_clicks\n",
    "v5_noclick = v5_visits - v5_clicks"
   ]
  },
  {
   "cell_type": "code",
   "execution_count": 194,
   "id": "96f00741-152a-4496-9ba2-7a4b4bd78332",
   "metadata": {},
   "outputs": [
    {
     "data": {
      "text/html": [
       "<div>\n",
       "<style scoped>\n",
       "    .dataframe tbody tr th:only-of-type {\n",
       "        vertical-align: middle;\n",
       "    }\n",
       "\n",
       "    .dataframe tbody tr th {\n",
       "        vertical-align: top;\n",
       "    }\n",
       "\n",
       "    .dataframe thead th {\n",
       "        text-align: right;\n",
       "    }\n",
       "</style>\n",
       "<table border=\"1\" class=\"dataframe\">\n",
       "  <thead>\n",
       "    <tr style=\"text-align: right;\">\n",
       "      <th></th>\n",
       "      <th>Interact</th>\n",
       "      <th>Connect</th>\n",
       "      <th>Learn</th>\n",
       "      <th>Help</th>\n",
       "      <th>Services</th>\n",
       "    </tr>\n",
       "  </thead>\n",
       "  <tbody>\n",
       "    <tr>\n",
       "      <th>Click</th>\n",
       "      <td>42</td>\n",
       "      <td>53</td>\n",
       "      <td>21</td>\n",
       "      <td>38</td>\n",
       "      <td>45</td>\n",
       "    </tr>\n",
       "    <tr>\n",
       "      <th>No-click</th>\n",
       "      <td>10241</td>\n",
       "      <td>2689</td>\n",
       "      <td>2726</td>\n",
       "      <td>3142</td>\n",
       "      <td>2019</td>\n",
       "    </tr>\n",
       "  </tbody>\n",
       "</table>\n",
       "</div>"
      ],
      "text/plain": [
       "          Interact  Connect  Learn  Help  Services\n",
       "Click           42       53     21    38        45\n",
       "No-click     10241     2689   2726  3142      2019"
      ]
     },
     "execution_count": 194,
     "metadata": {},
     "output_type": "execute_result"
    }
   ],
   "source": [
    "# contingency table as a pd.DataFrame creation\n",
    "clicks = pd.Series([v1_clicks, v2_clicks, v3_clicks, v4_clicks, v5_clicks])\n",
    "noclicks = pd.Series([v1_noclick, v2_noclick, v3_noclick, v4_noclick, v5_noclick])\n",
    "\n",
    "contingency_table = pd.DataFrame(data = [clicks, noclicks])\n",
    "contingency_table.columns = [\"Interact\", \"Connect\", \"Learn\", \"Help\", \"Services\"]\n",
    "contingency_table.index = [\"Click\", \"No-click\"]\n",
    "\n",
    "contingency_table"
   ]
  },
  {
   "cell_type": "code",
   "execution_count": 208,
   "id": "1fd8195d-a103-4e7c-9cf4-bcf7baa60067",
   "metadata": {},
   "outputs": [
    {
     "name": "stdout",
     "output_type": "stream",
     "text": [
      "4.852334301093838e-20 is a significant value\n"
     ]
    }
   ],
   "source": [
    "chi2, pval, dof, expected = stats.chi2_contingency(contingency_table)\n",
    "print(pval, 'is a significant value')"
   ]
  },
  {
   "cell_type": "code",
   "execution_count": 210,
   "id": "5585af90-c954-4110-9e61-f6430897d7d5",
   "metadata": {},
   "outputs": [
    {
     "data": {
      "text/html": [
       "<div>\n",
       "<style scoped>\n",
       "    .dataframe tbody tr th:only-of-type {\n",
       "        vertical-align: middle;\n",
       "    }\n",
       "\n",
       "    .dataframe tbody tr th {\n",
       "        vertical-align: top;\n",
       "    }\n",
       "\n",
       "    .dataframe thead th {\n",
       "        text-align: right;\n",
       "    }\n",
       "</style>\n",
       "<table border=\"1\" class=\"dataframe\">\n",
       "  <thead>\n",
       "    <tr style=\"text-align: right;\">\n",
       "      <th></th>\n",
       "      <th>Interact</th>\n",
       "      <th>Connect</th>\n",
       "      <th>Learn</th>\n",
       "      <th>Help</th>\n",
       "      <th>Services</th>\n",
       "    </tr>\n",
       "  </thead>\n",
       "  <tbody>\n",
       "    <tr>\n",
       "      <th>Click</th>\n",
       "      <td>97.36948</td>\n",
       "      <td>25.963932</td>\n",
       "      <td>26.011277</td>\n",
       "      <td>30.111344</td>\n",
       "      <td>19.543967</td>\n",
       "    </tr>\n",
       "    <tr>\n",
       "      <th>No-Click</th>\n",
       "      <td>10185.63052</td>\n",
       "      <td>2716.036068</td>\n",
       "      <td>2720.988723</td>\n",
       "      <td>3149.888656</td>\n",
       "      <td>2044.456033</td>\n",
       "    </tr>\n",
       "  </tbody>\n",
       "</table>\n",
       "</div>"
      ],
      "text/plain": [
       "             Interact      Connect        Learn         Help     Services\n",
       "Click        97.36948    25.963932    26.011277    30.111344    19.543967\n",
       "No-Click  10185.63052  2716.036068  2720.988723  3149.888656  2044.456033"
      ]
     },
     "execution_count": 210,
     "metadata": {},
     "output_type": "execute_result"
    }
   ],
   "source": [
    "# Null Hypothesis expected click amount.\n",
    "Expected_table = pd.DataFrame(expected)\n",
    "\n",
    "Expected_table.rename(columns={0:'Interact', 1:'Connect', 2:'Learn', 3:'Help', 4:'Services'},\\\n",
    "                      index={0:'Click', 1:'No-Click'}, inplace=True)\n",
    "\n",
    "Expected_table"
   ]
  },
  {
   "cell_type": "markdown",
   "id": "dc0db461-98fd-4316-975e-7eb452dc33c9",
   "metadata": {},
   "source": [
    "**Pair-wise Comparison to determine Significant Pairs**"
   ]
  },
  {
   "cell_type": "code",
   "execution_count": 244,
   "id": "77a6ed69-f2bb-4d05-80bb-434443f0fd14",
   "metadata": {},
   "outputs": [
    {
     "name": "stdout",
     "output_type": "stream",
     "text": [
      "0.6188771123975272 , Significance: False\n"
     ]
    }
   ],
   "source": [
    "chi2, pval, dof, expected = stats.chi2_contingency(contingency_table[['Services', 'Connect']])\n",
    "print(pval,', ' + 'Significance:', pval < 0.05)"
   ]
  },
  {
   "cell_type": "markdown",
   "id": "5e31966b-6c37-4ffb-8ca8-1490f8efdf4e",
   "metadata": {},
   "source": [
    "    Services and Connect have no significance in terms of their impact. Following the click through rate, Services would be the best option.\n",
    "    If these options are not used, we may use other options based on the pair-wise comparisons below."
   ]
  },
  {
   "cell_type": "code",
   "execution_count": 246,
   "id": "7b42d792-e65b-4133-b20c-43753283d54c",
   "metadata": {},
   "outputs": [
    {
     "name": "stdout",
     "output_type": "stream",
     "text": [
      "2.2250331654688293e-16 , Significance: True\n"
     ]
    }
   ],
   "source": [
    "chi2, pval, dof, expected = stats.chi2_contingency(contingency_table[['Interact', 'Connect']])\n",
    "print(pval,', ' + 'Significance:', pval < 0.05)"
   ]
  },
  {
   "cell_type": "code",
   "execution_count": 247,
   "id": "8025dd60-9d9d-4533-a781-83699f222ef9",
   "metadata": {},
   "outputs": [
    {
     "name": "stdout",
     "output_type": "stream",
     "text": [
      "0.025419824342152637 , Significance: True\n"
     ]
    }
   ],
   "source": [
    "chi2, pval, dof, expected = stats.chi2_contingency(contingency_table[['Interact', 'Learn']])\n",
    "print(pval,', ' + 'Significance:', pval < 0.05)"
   ]
  },
  {
   "cell_type": "code",
   "execution_count": 248,
   "id": "8f45fe1d-274a-40ea-a8a5-be06c7b5fa27",
   "metadata": {},
   "outputs": [
    {
     "name": "stdout",
     "output_type": "stream",
     "text": [
      "9.03599988558687e-07 , Significance: True\n"
     ]
    }
   ],
   "source": [
    "chi2, pval, dof, expected = stats.chi2_contingency(contingency_table[['Interact', 'Help']])\n",
    "print(pval,', ' + 'Significance:', pval < 0.05)"
   ]
  },
  {
   "cell_type": "code",
   "execution_count": 249,
   "id": "d9cc201b-90f4-459f-b60f-7b335e31d0b6",
   "metadata": {},
   "outputs": [
    {
     "name": "stdout",
     "output_type": "stream",
     "text": [
      "5.719451224375125e-18 , Significance: True\n"
     ]
    }
   ],
   "source": [
    "chi2, pval, dof, expected = stats.chi2_contingency(contingency_table[['Interact', 'Services']])\n",
    "print(pval,', ' + 'Significance:', pval < 0.05)"
   ]
  },
  {
   "cell_type": "code",
   "execution_count": 250,
   "id": "d7d4b1a3-1305-4b97-893e-42c3abc88db3",
   "metadata": {},
   "outputs": [
    {
     "name": "stdout",
     "output_type": "stream",
     "text": [
      "0.00027678881264505827 , Significance: True\n"
     ]
    }
   ],
   "source": [
    "chi2, pval, dof, expected = stats.chi2_contingency(contingency_table[['Learn', 'Connect']])\n",
    "print(pval,', ' + 'Significance:', pval < 0.05)"
   ]
  },
  {
   "cell_type": "code",
   "execution_count": 251,
   "id": "92f81657-73fe-45c0-8f5b-99f19ef0ffb4",
   "metadata": {},
   "outputs": [
    {
     "name": "stdout",
     "output_type": "stream",
     "text": [
      "0.02808815288948292 , Significance: True\n"
     ]
    }
   ],
   "source": [
    "chi2, pval, dof, expected = stats.chi2_contingency(contingency_table[['Help', 'Connect']])\n",
    "print(pval,', ' + 'Significance:', pval < 0.05)"
   ]
  },
  {
   "cell_type": "code",
   "execution_count": 252,
   "id": "4a66f3c5-3a02-4aa0-a533-1146fbc27ff1",
   "metadata": {},
   "outputs": [
    {
     "name": "stdout",
     "output_type": "stream",
     "text": [
      "0.12512753088691322 , Significance: False\n"
     ]
    }
   ],
   "source": [
    "chi2, pval, dof, expected = stats.chi2_contingency(contingency_table[['Learn', 'Help']])\n",
    "print(pval,', ' + 'Significance:', pval < 0.05)"
   ]
  },
  {
   "cell_type": "code",
   "execution_count": 253,
   "id": "be063153-f3d9-4922-8aeb-2a91f3bb6c16",
   "metadata": {},
   "outputs": [
    {
     "name": "stdout",
     "output_type": "stream",
     "text": [
      "5.0540996583731365e-05 , Significance: True\n"
     ]
    }
   ],
   "source": [
    "chi2, pval, dof, expected = stats.chi2_contingency(contingency_table[['Learn', 'Services']])\n",
    "print(pval,', ' + 'Significance:', pval < 0.05)"
   ]
  },
  {
   "cell_type": "code",
   "execution_count": 254,
   "id": "7f0487a3-ec37-4c6b-b29b-a5aa096dcf20",
   "metadata": {},
   "outputs": [
    {
     "name": "stdout",
     "output_type": "stream",
     "text": [
      "0.007370912499282061 , Significance: True\n"
     ]
    }
   ],
   "source": [
    "chi2, pval, dof, expected = stats.chi2_contingency(contingency_table[['Help', 'Services']])\n",
    "print(pval,', ' + 'Significance:', pval < 0.05)"
   ]
  },
  {
   "cell_type": "markdown",
   "id": "ebe21b49-b225-4ec3-9277-dd014c8b0608",
   "metadata": {},
   "source": [
    "    "
   ]
  },
  {
   "cell_type": "markdown",
   "id": "97c57238-578b-46ae-92b4-c3e365aace01",
   "metadata": {},
   "source": [
    "## **Miscelleneous Exercise**"
   ]
  },
  {
   "cell_type": "markdown",
   "id": "3d7743e8-9d89-45dc-b6c8-2aace7cf9642",
   "metadata": {},
   "source": [
    "    Analysis of heart disease data using different techniques."
   ]
  },
  {
   "cell_type": "code",
   "execution_count": 303,
   "id": "f2ea7e8d-a63c-434e-9444-dd6e12933c50",
   "metadata": {},
   "outputs": [
    {
     "data": {
      "text/html": [
       "<div>\n",
       "<style scoped>\n",
       "    .dataframe tbody tr th:only-of-type {\n",
       "        vertical-align: middle;\n",
       "    }\n",
       "\n",
       "    .dataframe tbody tr th {\n",
       "        vertical-align: top;\n",
       "    }\n",
       "\n",
       "    .dataframe thead th {\n",
       "        text-align: right;\n",
       "    }\n",
       "</style>\n",
       "<table border=\"1\" class=\"dataframe\">\n",
       "  <thead>\n",
       "    <tr style=\"text-align: right;\">\n",
       "      <th></th>\n",
       "      <th>age</th>\n",
       "      <th>sex</th>\n",
       "      <th>trestbps</th>\n",
       "      <th>chol</th>\n",
       "      <th>cp</th>\n",
       "      <th>exang</th>\n",
       "      <th>fbs</th>\n",
       "      <th>thalach</th>\n",
       "      <th>heart_disease</th>\n",
       "    </tr>\n",
       "  </thead>\n",
       "  <tbody>\n",
       "    <tr>\n",
       "      <th>0</th>\n",
       "      <td>63.0</td>\n",
       "      <td>male</td>\n",
       "      <td>145.0</td>\n",
       "      <td>233.0</td>\n",
       "      <td>typical angina</td>\n",
       "      <td>0.0</td>\n",
       "      <td>1.0</td>\n",
       "      <td>150.0</td>\n",
       "      <td>absence</td>\n",
       "    </tr>\n",
       "    <tr>\n",
       "      <th>1</th>\n",
       "      <td>67.0</td>\n",
       "      <td>male</td>\n",
       "      <td>160.0</td>\n",
       "      <td>286.0</td>\n",
       "      <td>asymptomatic</td>\n",
       "      <td>1.0</td>\n",
       "      <td>0.0</td>\n",
       "      <td>108.0</td>\n",
       "      <td>presence</td>\n",
       "    </tr>\n",
       "    <tr>\n",
       "      <th>2</th>\n",
       "      <td>67.0</td>\n",
       "      <td>male</td>\n",
       "      <td>120.0</td>\n",
       "      <td>229.0</td>\n",
       "      <td>asymptomatic</td>\n",
       "      <td>1.0</td>\n",
       "      <td>0.0</td>\n",
       "      <td>129.0</td>\n",
       "      <td>presence</td>\n",
       "    </tr>\n",
       "    <tr>\n",
       "      <th>3</th>\n",
       "      <td>37.0</td>\n",
       "      <td>male</td>\n",
       "      <td>130.0</td>\n",
       "      <td>250.0</td>\n",
       "      <td>non-anginal pain</td>\n",
       "      <td>0.0</td>\n",
       "      <td>0.0</td>\n",
       "      <td>187.0</td>\n",
       "      <td>absence</td>\n",
       "    </tr>\n",
       "    <tr>\n",
       "      <th>4</th>\n",
       "      <td>41.0</td>\n",
       "      <td>female</td>\n",
       "      <td>130.0</td>\n",
       "      <td>204.0</td>\n",
       "      <td>atypical angina</td>\n",
       "      <td>0.0</td>\n",
       "      <td>0.0</td>\n",
       "      <td>172.0</td>\n",
       "      <td>absence</td>\n",
       "    </tr>\n",
       "    <tr>\n",
       "      <th>...</th>\n",
       "      <td>...</td>\n",
       "      <td>...</td>\n",
       "      <td>...</td>\n",
       "      <td>...</td>\n",
       "      <td>...</td>\n",
       "      <td>...</td>\n",
       "      <td>...</td>\n",
       "      <td>...</td>\n",
       "      <td>...</td>\n",
       "    </tr>\n",
       "    <tr>\n",
       "      <th>298</th>\n",
       "      <td>45.0</td>\n",
       "      <td>male</td>\n",
       "      <td>110.0</td>\n",
       "      <td>264.0</td>\n",
       "      <td>typical angina</td>\n",
       "      <td>0.0</td>\n",
       "      <td>0.0</td>\n",
       "      <td>132.0</td>\n",
       "      <td>presence</td>\n",
       "    </tr>\n",
       "    <tr>\n",
       "      <th>299</th>\n",
       "      <td>68.0</td>\n",
       "      <td>male</td>\n",
       "      <td>144.0</td>\n",
       "      <td>193.0</td>\n",
       "      <td>asymptomatic</td>\n",
       "      <td>0.0</td>\n",
       "      <td>1.0</td>\n",
       "      <td>141.0</td>\n",
       "      <td>presence</td>\n",
       "    </tr>\n",
       "    <tr>\n",
       "      <th>300</th>\n",
       "      <td>57.0</td>\n",
       "      <td>male</td>\n",
       "      <td>130.0</td>\n",
       "      <td>131.0</td>\n",
       "      <td>asymptomatic</td>\n",
       "      <td>1.0</td>\n",
       "      <td>0.0</td>\n",
       "      <td>115.0</td>\n",
       "      <td>presence</td>\n",
       "    </tr>\n",
       "    <tr>\n",
       "      <th>301</th>\n",
       "      <td>57.0</td>\n",
       "      <td>female</td>\n",
       "      <td>130.0</td>\n",
       "      <td>236.0</td>\n",
       "      <td>atypical angina</td>\n",
       "      <td>0.0</td>\n",
       "      <td>0.0</td>\n",
       "      <td>174.0</td>\n",
       "      <td>presence</td>\n",
       "    </tr>\n",
       "    <tr>\n",
       "      <th>302</th>\n",
       "      <td>38.0</td>\n",
       "      <td>male</td>\n",
       "      <td>138.0</td>\n",
       "      <td>175.0</td>\n",
       "      <td>non-anginal pain</td>\n",
       "      <td>0.0</td>\n",
       "      <td>0.0</td>\n",
       "      <td>173.0</td>\n",
       "      <td>absence</td>\n",
       "    </tr>\n",
       "  </tbody>\n",
       "</table>\n",
       "<p>303 rows × 9 columns</p>\n",
       "</div>"
      ],
      "text/plain": [
       "      age     sex  trestbps   chol                cp  exang  fbs  thalach  \\\n",
       "0    63.0    male     145.0  233.0    typical angina    0.0  1.0    150.0   \n",
       "1    67.0    male     160.0  286.0      asymptomatic    1.0  0.0    108.0   \n",
       "2    67.0    male     120.0  229.0      asymptomatic    1.0  0.0    129.0   \n",
       "3    37.0    male     130.0  250.0  non-anginal pain    0.0  0.0    187.0   \n",
       "4    41.0  female     130.0  204.0   atypical angina    0.0  0.0    172.0   \n",
       "..    ...     ...       ...    ...               ...    ...  ...      ...   \n",
       "298  45.0    male     110.0  264.0    typical angina    0.0  0.0    132.0   \n",
       "299  68.0    male     144.0  193.0      asymptomatic    0.0  1.0    141.0   \n",
       "300  57.0    male     130.0  131.0      asymptomatic    1.0  0.0    115.0   \n",
       "301  57.0  female     130.0  236.0   atypical angina    0.0  0.0    174.0   \n",
       "302  38.0    male     138.0  175.0  non-anginal pain    0.0  0.0    173.0   \n",
       "\n",
       "    heart_disease  \n",
       "0         absence  \n",
       "1        presence  \n",
       "2        presence  \n",
       "3         absence  \n",
       "4         absence  \n",
       "..            ...  \n",
       "298      presence  \n",
       "299      presence  \n",
       "300      presence  \n",
       "301      presence  \n",
       "302       absence  \n",
       "\n",
       "[303 rows x 9 columns]"
      ]
     },
     "execution_count": 303,
     "metadata": {},
     "output_type": "execute_result"
    }
   ],
   "source": [
    "heart = pd.read_csv('heart_disease.txt', engine='python', sep=',')\n",
    "heart"
   ]
  },
  {
   "cell_type": "markdown",
   "id": "70d8faa1-0bcc-45c0-9d01-03fda8c2506f",
   "metadata": {},
   "source": [
    "    age: age in years\n",
    "    \n",
    "    sex: sex assigned at birth; 'male' or 'female'\n",
    "    \n",
    "    trestbps: resting blood pressure in mm Hg\n",
    "    \n",
    "    chol: serum cholesterol in mg/dl\n",
    "    \n",
    "    cp: chest pain type ('typical angina', 'atypical angina', 'non-anginal pain', or 'asymptomatic')\n",
    "    \n",
    "    exang: whether the patient experiences exercise-induced angina (1: yes; 0: no)\n",
    "    \n",
    "    fbs: whether the patient’s fasting blood sugar is >120 mg/dl (1: yes; 0: no)\n",
    "    \n",
    "    thalach: maximum heart rate achieved in exercise test\n",
    "    \n",
    "    heart_disease: whether the patient is found to have heart disease ('presence': diagnosed with heart disease; 'absence': no heart disease)"
   ]
  },
  {
   "cell_type": "code",
   "execution_count": 314,
   "id": "c1ea586f-0ea7-480a-8f0e-16bd4ebf5bfe",
   "metadata": {},
   "outputs": [
    {
     "data": {
      "image/png": "[encoded data removed]",
      "text/plain": [
       "<Figure size 576x576 with 1 Axes>"
      ]
     },
     "metadata": {
      "needs_background": "light"
     },
     "output_type": "display_data"
    }
   ],
   "source": [
    "# Is thalach, age, trestbps, chol associated with whether or not a patient will ultimately be diagnosed with heart disease?\n",
    "plt.figure(figsize=(8, 8));\n",
    "sns.boxplot(x=heart.heart_disease, y=heart.thalach)\n",
    "plt.show();"
   ]
  },
  {
   "cell_type": "code",
   "execution_count": 315,
   "id": "d457ccd2-9934-494e-bd20-5ded0d12a35a",
   "metadata": {},
   "outputs": [
    {
     "data": {
      "image/png": "[encoded data removed]",
      "text/plain": [
       "<Figure size 576x576 with 1 Axes>"
      ]
     },
     "metadata": {
      "needs_background": "light"
     },
     "output_type": "display_data"
    }
   ],
   "source": [
    "plt.figure(figsize=(8, 8));\n",
    "sns.boxplot(x=heart.heart_disease, y=heart.age)\n",
    "plt.show();"
   ]
  },
  {
   "cell_type": "code",
   "execution_count": 316,
   "id": "a3077176-c126-4487-9547-84016ae9e655",
   "metadata": {},
   "outputs": [
    {
     "data": {
      "image/png": "[encoded data removed]",
      "text/plain": [
       "<Figure size 576x576 with 1 Axes>"
      ]
     },
     "metadata": {
      "needs_background": "light"
     },
     "output_type": "display_data"
    }
   ],
   "source": [
    "plt.figure(figsize=(8, 8));\n",
    "sns.boxplot(x=heart.heart_disease, y=heart.chol)\n",
    "plt.show();"
   ]
  },
  {
   "cell_type": "code",
   "execution_count": 317,
   "id": "ce72b8e3-a5fe-4484-9b8f-1085b5c92562",
   "metadata": {},
   "outputs": [
    {
     "data": {
      "image/png": "[encoded data removed]",
      "text/plain": [
       "<Figure size 576x576 with 1 Axes>"
      ]
     },
     "metadata": {
      "needs_background": "light"
     },
     "output_type": "display_data"
    }
   ],
   "source": [
    "plt.figure(figsize=(8, 8));\n",
    "sns.boxplot(x=heart.heart_disease, y=heart.trestbps)\n",
    "plt.show();"
   ]
  },
  {
   "cell_type": "code",
   "execution_count": 310,
   "id": "1a3d5648-4b49-4a06-82ad-cafd4331d98c",
   "metadata": {},
   "outputs": [],
   "source": [
    "thalach_hd = heart[heart.heart_disease == 'presence'].thalach\n",
    "thalach_no_hd = heart[heart.heart_disease == 'absence'].thalach\n",
    "\n",
    "age_hd = heart[heart.heart_disease == 'presence'].age\n",
    "age_no_hd = heart[heart.heart_disease == 'absence'].age\n",
    "\n",
    "trestbps_hd = heart[heart.heart_disease == 'presence'].trestbps\n",
    "trestbps_no_hd = heart[heart.heart_disease == 'absence'].trestbps\n",
    "\n",
    "chol_hd = heart[heart.heart_disease == 'presence'].chol\n",
    "chol_no_hd = heart[heart.heart_disease == 'absence'].chol"
   ]
  },
  {
   "cell_type": "code",
   "execution_count": 309,
   "id": "39021f29-ec46-4262-adda-5bce82971c6e",
   "metadata": {},
   "outputs": [
    {
     "name": "stdout",
     "output_type": "stream",
     "text": [
      "19.11905597473242\n",
      "-------------------------------------------\n",
      "19.0\n"
     ]
    }
   ],
   "source": [
    "print(thalach_no_hd.mean() - thalach_hd.mean())\n",
    "print('-------------------------------------------')\n",
    "print(thalach_no_hd.median() - thalach_hd.median())"
   ]
  },
  {
   "cell_type": "code",
   "execution_count": 311,
   "id": "2653e353-731f-428f-9dd4-5ea61103f5e3",
   "metadata": {},
   "outputs": [
    {
     "name": "stdout",
     "output_type": "stream",
     "text": [
      "-4.040533426917001\n",
      "-------------------------------------------\n",
      "-6.0\n"
     ]
    }
   ],
   "source": [
    "print(age_no_hd.mean() - age_hd.mean())\n",
    "print('-------------------------------------------')\n",
    "print(age_no_hd.median() - age_hd.median())"
   ]
  },
  {
   "cell_type": "code",
   "execution_count": 312,
   "id": "e2ed0832-40b7-4ec8-b962-49b3c8da493c",
   "metadata": {},
   "outputs": [
    {
     "name": "stdout",
     "output_type": "stream",
     "text": [
      "-5.318345323740999\n",
      "-------------------------------------------\n",
      "0.0\n"
     ]
    }
   ],
   "source": [
    "print(trestbps_no_hd.mean() - trestbps_hd.mean())\n",
    "print('-------------------------------------------')\n",
    "print(trestbps_no_hd.median() - trestbps_hd.median())"
   ]
  },
  {
   "cell_type": "code",
   "execution_count": 313,
   "id": "4ce7220b-a5cd-4212-8ee6-f8bc6b47b351",
   "metadata": {},
   "outputs": [
    {
     "name": "stdout",
     "output_type": "stream",
     "text": [
      "-8.834576241445887\n",
      "-------------------------------------------\n",
      "-14.5\n"
     ]
    }
   ],
   "source": [
    "print(chol_no_hd.mean() - chol_hd.mean())\n",
    "print('-------------------------------------------')\n",
    "print(chol_no_hd.median() - chol_hd.median())"
   ]
  },
  {
   "cell_type": "markdown",
   "id": "62a9ed5c-22a0-45df-8e2a-1d44f319e85e",
   "metadata": {},
   "source": [
    "#### **1-Sample t-test**"
   ]
  },
  {
   "cell_type": "code",
   "execution_count": 322,
   "id": "bf815bb3-8a35-405c-9c4a-3f440733f4cc",
   "metadata": {},
   "outputs": [
    {
     "name": "stdout",
     "output_type": "stream",
     "text": [
      "5.519497642701956e-18 , Significance: True\n",
      "-------------------------------------------\n",
      "1.6373040826729806e-08 , Significance: True\n",
      "-------------------------------------------\n",
      "0.037124649795421356 , Significance: True\n",
      "-------------------------------------------\n",
      "0.0010750589938665872 , Significance: True\n"
     ]
    }
   ],
   "source": [
    "# Is the average thalach, age, chol, trestbps for heart disease patient significantly different from the average thalach \n",
    "# for a person without heart disease?\n",
    "\n",
    "tstat1, pval1 = stats.ttest_1samp(list(thalach_hd), np.mean(thalach_no_hd))\n",
    "tstat2, pval2 = stats.ttest_1samp(list(age_hd), np.mean(age_no_hd))\n",
    "tstat3, pval3 = stats.ttest_1samp(list(chol_hd), np.mean(chol_no_hd))\n",
    "tstat4, pval4 = stats.ttest_1samp(list(trestbps_hd), np.mean(trestbps_no_hd))\n",
    "\n",
    "\n",
    "print(pval1,', ' + 'Significance:', pval1 < 0.05)\n",
    "print('-------------------------------------------')\n",
    "print(pval2,', ' + 'Significance:', pval2 < 0.05)\n",
    "print('-------------------------------------------')\n",
    "print(pval3,', ' + 'Significance:', pval3 < 0.05)\n",
    "print('-------------------------------------------')\n",
    "print(pval4,', ' + 'Significance:', pval4 < 0.05)"
   ]
  },
  {
   "cell_type": "markdown",
   "id": "c4a41c48-a0fe-48fc-b7ce-51bc42780959",
   "metadata": {},
   "source": [
    "#### **2-Sample t-test**"
   ]
  },
  {
   "cell_type": "code",
   "execution_count": 323,
   "id": "a52f0d75-43fb-48ef-bb3a-c5136ffc0404",
   "metadata": {},
   "outputs": [
    {
     "name": "stdout",
     "output_type": "stream",
     "text": [
      "3.456964908430172e-14 , Significance: True\n",
      "-------------------------------------------\n",
      "8.955636917529706e-05 , Significance: True\n",
      "-------------------------------------------\n",
      "0.13914167020436527 , Significance: False\n",
      "-------------------------------------------\n",
      "0.008548268928594928 , Significance: True\n"
     ]
    }
   ],
   "source": [
    "tstat1, pval1 = stats.ttest_ind(list(thalach_hd), list(thalach_no_hd))\n",
    "tstat2, pval2 = stats.ttest_ind(list(age_hd), list(age_no_hd))\n",
    "tstat3, pval3 = stats.ttest_ind(list(chol_hd), list(chol_no_hd))\n",
    "tstat4, pval4 = stats.ttest_ind(list(trestbps_hd), list(trestbps_no_hd))\n",
    "\n",
    "\n",
    "print(pval1,', ' + 'Significance:', pval1 < 0.05)\n",
    "print('-------------------------------------------')\n",
    "print(pval2,', ' + 'Significance:', pval2 < 0.05)\n",
    "print('-------------------------------------------')\n",
    "print(pval3,', ' + 'Significance:', pval3 < 0.05)\n",
    "print('-------------------------------------------')\n",
    "print(pval4,', ' + 'Significance:', pval4 < 0.05)"
   ]
  },
  {
   "cell_type": "markdown",
   "id": "12f05ae5-7847-4a6b-868c-34d72da2b7af",
   "metadata": {},
   "source": [
    "#### **ANOVA test**"
   ]
  },
  {
   "cell_type": "code",
   "execution_count": 324,
   "id": "cc0aecb7-87c1-4ff6-a9fe-b453a45bdf71",
   "metadata": {},
   "outputs": [],
   "source": [
    "# Investigate the relationship between thalach, age, chol, trestbps and the \n",
    "# type of heart pain a person experiences.\n",
    "\n",
    "thalach_typical =  heart[heart.cp == 'typical angina'].thalach\n",
    "thalach_asymptom = heart[heart.cp == 'asymptomatic'].thalach\n",
    "thalach_nonangin =  heart[heart.cp == 'non-anginal pain'].thalach\n",
    "thalach_atypical =  heart[heart.cp == 'atypical angina'].thalach\n",
    "\n",
    "\n",
    "age_typical =  heart[heart.cp == 'typical angina'].age\n",
    "age_asymptom = heart[heart.cp == 'asymptomatic'].age\n",
    "age_nonangin =  heart[heart.cp == 'non-anginal pain'].age\n",
    "age_atypical =  heart[heart.cp == 'atypical angina'].age\n",
    "\n",
    "\n",
    "chol_typical =  heart[heart.cp == 'typical angina'].chol\n",
    "chol_asymptom = heart[heart.cp == 'asymptomatic'].chol\n",
    "chol_nonangin =  heart[heart.cp == 'non-anginal pain'].chol\n",
    "chol_atypical =  heart[heart.cp == 'atypical angina'].chol\n",
    "\n",
    "\n",
    "trestbps_typical =  heart[heart.cp == 'typical angina'].trestbps\n",
    "trestbps_asymptom = heart[heart.cp == 'asymptomatic'].trestbps\n",
    "trestbps_nonangin =  heart[heart.cp == 'non-anginal pain'].trestbps\n",
    "trestbps_atypical =  heart[heart.cp == 'atypical angina'].trestbps"
   ]
  },
  {
   "cell_type": "code",
   "execution_count": 325,
   "id": "8a8ddf55-ebc7-40c1-9698-c5cdcba5de3d",
   "metadata": {},
   "outputs": [
    {
     "name": "stdout",
     "output_type": "stream",
     "text": [
      "1.9065505247705008e-10 , Significance: True\n",
      "-------------------------------------------\n",
      "0.01907804944707371 , Significance: True\n",
      "-------------------------------------------\n",
      "0.6006915022059879 , Significance: False\n",
      "-------------------------------------------\n",
      "0.03320471625132099 , Significance: True\n"
     ]
    }
   ],
   "source": [
    "fstat1, pval1 = stats.f_oneway(thalach_typical, thalach_asymptom, thalach_nonangin, thalach_atypical)\n",
    "fstat2, pval2 = stats.f_oneway(age_typical, age_asymptom, age_nonangin, age_atypical)\n",
    "fstat3, pval3 = stats.f_oneway(chol_typical, chol_asymptom, chol_nonangin, chol_atypical)\n",
    "fstat4, pval4 = stats.f_oneway(trestbps_typical, trestbps_asymptom, trestbps_nonangin, trestbps_atypical)\n",
    "\n",
    "print(pval1,', ' + 'Significance:', pval1 < 0.05)\n",
    "print('-------------------------------------------')\n",
    "print(pval2,', ' + 'Significance:', pval2 < 0.05)\n",
    "print('-------------------------------------------')\n",
    "print(pval3,', ' + 'Significance:', pval3 < 0.05)\n",
    "print('-------------------------------------------')\n",
    "print(pval4,', ' + 'Significance:', pval4 < 0.05)"
   ]
  },
  {
   "cell_type": "markdown",
   "id": "3133bb5e-32d5-4bcd-89aa-301954f13660",
   "metadata": {},
   "source": [
    "#### **Tukey's test**"
   ]
  },
  {
   "cell_type": "code",
   "execution_count": 328,
   "id": "5000ddd8-c840-464d-a9aa-1a52cc5220eb",
   "metadata": {},
   "outputs": [
    {
     "name": "stdout",
     "output_type": "stream",
     "text": [
      "           Multiple Comparison of Means - Tukey HSD, FWER=0.05           \n",
      "=========================================================================\n",
      "     group1           group2      meandiff p-adj   lower    upper  reject\n",
      "-------------------------------------------------------------------------\n",
      "    asymptomatic  atypical angina  21.7394    0.0  12.7442 30.7347   True\n",
      "    asymptomatic non-anginal pain  14.7264    0.0   7.2583 22.1945   True\n",
      "    asymptomatic   typical angina   15.276 0.0081   2.9707 27.5812   True\n",
      " atypical angina non-anginal pain   -7.013 0.2481 -16.7587  2.7327  False\n",
      " atypical angina   typical angina  -6.4635 0.6213 -20.2702  7.3432  False\n",
      "non-anginal pain   typical angina   0.5495 0.9995 -12.3145 13.4136  False\n",
      "-------------------------------------------------------------------------\n",
      "\n",
      "\n",
      "          Multiple Comparison of Means - Tukey HSD, FWER=0.05           \n",
      "========================================================================\n",
      "     group1           group2      meandiff p-adj   lower   upper  reject\n",
      "------------------------------------------------------------------------\n",
      "    asymptomatic  atypical angina  -4.3622 0.0167 -8.1511 -0.5733   True\n",
      "    asymptomatic non-anginal pain  -2.0245 0.3453 -5.1702  1.1211  False\n",
      "    asymptomatic   typical angina   0.1473 0.9999 -5.0358  5.3305  False\n",
      " atypical angina non-anginal pain   2.3377 0.4562 -1.7673  6.4427  False\n",
      " atypical angina   typical angina   4.5096  0.189  -1.306 10.3251  False\n",
      "non-anginal pain   typical angina   2.1719 0.7287 -3.2466  7.5904  False\n",
      "------------------------------------------------------------------------\n",
      "\n",
      "\n",
      "          Multiple Comparison of Means - Tukey HSD, FWER=0.05           \n",
      "========================================================================\n",
      "     group1           group2      meandiff p-adj   lower   upper  reject\n",
      "------------------------------------------------------------------------\n",
      "    asymptomatic  atypical angina  -3.8014 0.5455 -11.194  3.5912  False\n",
      "    asymptomatic non-anginal pain  -1.9107 0.8524 -8.0483  4.2269  False\n",
      "    asymptomatic   typical angina   8.6682 0.1217 -1.4448 18.7811  False\n",
      " atypical angina non-anginal pain   1.8907 0.9289 -6.1187  9.9001  False\n",
      " atypical angina   typical angina  12.4696 0.0248  1.1227 23.8165   True\n",
      "non-anginal pain   typical angina  10.5789 0.0498  0.0067  21.151   True\n",
      "------------------------------------------------------------------------\n"
     ]
    }
   ],
   "source": [
    "tukey_results1 = pairwise_tukeyhsd(heart.thalach, heart.cp, 0.05)\n",
    "tukey_results2 = pairwise_tukeyhsd(heart.age, heart.cp, 0.05)\n",
    "tukey_results3 = pairwise_tukeyhsd(heart.trestbps, heart.cp, 0.05)\n",
    "\n",
    "\n",
    "print(tukey_results1)\n",
    "print('\\n')\n",
    "print(tukey_results2)\n",
    "print('\\n')\n",
    "print(tukey_results3)"
   ]
  },
  {
   "cell_type": "markdown",
   "id": "dc14c2a9-154d-4139-ae09-af55570e55f9",
   "metadata": {},
   "source": [
    "#### **Chi-Square test**"
   ]
  },
  {
   "cell_type": "code",
   "execution_count": 329,
   "id": "d74b4b86-dc4e-44f3-a2a1-89ebefbdc08f",
   "metadata": {},
   "outputs": [
    {
     "name": "stdout",
     "output_type": "stream",
     "text": [
      "heart_disease     absence  presence\n",
      "cp                                 \n",
      "asymptomatic           39       105\n",
      "atypical angina        41         9\n",
      "non-anginal pain       68        18\n",
      "typical angina         16         7\n",
      "\n",
      "\n",
      "heart_disease  absence  presence\n",
      "sex                             \n",
      "female              72        25\n",
      "male                92       114\n",
      "\n",
      "\n",
      "sex               female  male\n",
      "cp                            \n",
      "asymptomatic          40   104\n",
      "atypical angina       18    32\n",
      "non-anginal pain      35    51\n",
      "typical angina         4    19\n"
     ]
    }
   ],
   "source": [
    "contingency_table1 = pd.crosstab(heart.cp, heart.heart_disease)\n",
    "contingency_table2 = pd.crosstab(heart.sex, heart.heart_disease)\n",
    "contingency_table3 = pd.crosstab(heart.cp, heart.sex)\n",
    "\n",
    "print(contingency_table1)\n",
    "print('\\n')\n",
    "print(contingency_table2)\n",
    "print('\\n')\n",
    "print(contingency_table3)"
   ]
  },
  {
   "cell_type": "code",
   "execution_count": 331,
   "id": "b3d101a0-5930-4c61-95e2-0987b08b21e7",
   "metadata": {},
   "outputs": [
    {
     "name": "stdout",
     "output_type": "stream",
     "text": [
      "1.2517106007837527e-17 , Significance: True\n",
      "-------------------------------------------\n",
      "2.666712348180942e-06 , Significance: True\n",
      "-------------------------------------------\n",
      "0.07885024424877551 , Significance: False\n"
     ]
    }
   ],
   "source": [
    "chi1, pval1, dof, expected = stats.chi2_contingency(contingency_table1)\n",
    "chi2, pval2, dof, expected = stats.chi2_contingency(contingency_table2)\n",
    "chi3, pval3, dof, expected = stats.chi2_contingency(contingency_table3)\n",
    "\n",
    "print(pval1,', ' + 'Significance:', pval1 < 0.05)\n",
    "print('-------------------------------------------')\n",
    "print(pval2,', ' + 'Significance:', pval2 < 0.05)\n",
    "print('-------------------------------------------')\n",
    "print(pval3,', ' + 'Significance:', pval3 < 0.05)"
   ]
  },
  {
   "cell_type": "code",
   "execution_count": null,
   "id": "4d4ceed1-c300-4f06-99d0-764c177e5c6d",
   "metadata": {},
   "outputs": [],
   "source": []
  }
 ],
 "metadata": {
  "kernelspec": {
   "display_name": "Python 3 (ipykernel)",
   "language": "python",
   "name": "python3"
  },
  "language_info": {
   "codemirror_mode": {
    "name": "ipython",
    "version": 3
   },
   "file_extension": ".py",
   "mimetype": "text/x-python",
   "name": "python",
   "nbconvert_exporter": "python",
   "pygments_lexer": "ipython3",
   "version": "3.9.12"
  }
 },
 "nbformat": 4,
 "nbformat_minor": 5
}
