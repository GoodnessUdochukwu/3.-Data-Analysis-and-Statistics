{
 "cells": [
  {
   "cell_type": "markdown",
   "id": "3293eb35-6560-413a-823f-540724bd7df1",
   "metadata": {},
   "source": [
    "## **Import Libraries**"
   ]
  },
  {
   "cell_type": "code",
   "execution_count": 1,
   "id": "f20d96a5-230c-4218-91a5-65ba1a4ba191",
   "metadata": {},
   "outputs": [],
   "source": [
    "import numpy as np\n",
    "import pandas as pd\n",
    "import scipy.stats as stats\n",
    "import random\n",
    "import matplotlib.pyplot as plt"
   ]
  },
  {
   "cell_type": "markdown",
   "id": "ad314e53-c194-4440-af58-74bb79a3802b",
   "metadata": {},
   "source": [
    "### **Simulating the Normal Distribution**"
   ]
  },
  {
   "cell_type": "code",
   "execution_count": 20,
   "id": "60777ac8-2bea-41b9-b0c2-af9180a918ac",
   "metadata": {
    "collapsed": true,
    "jupyter": {
     "outputs_hidden": true
    },
    "tags": []
   },
   "outputs": [
    {
     "data": {
      "text/plain": [
       "0        0.883893\n",
       "1        0.195865\n",
       "2        0.357537\n",
       "3       -2.343262\n",
       "4       -1.084833\n",
       "           ...   \n",
       "99995    1.658810\n",
       "99996    0.783421\n",
       "99997   -0.359252\n",
       "99998    1.836345\n",
       "99999    0.865039\n",
       "Length: 100000, dtype: float64"
      ]
     },
     "execution_count": 20,
     "metadata": {},
     "output_type": "execute_result"
    }
   ],
   "source": [
    "norm_dist = stats.norm.rvs(loc=0,          # centre of distribution or mean of population\n",
    "                           scale=1,        # standard deviation\n",
    "                           size=100000,    # size of population\n",
    "                           random_state=20\n",
    "                          )\n",
    "\n",
    "norm_dist = pd.Series(norm_dist)\n",
    "norm_dist"
   ]
  },
  {
   "cell_type": "code",
   "execution_count": 19,
   "id": "cbeb8553-6360-43d5-acf5-353bab0d5298",
   "metadata": {},
   "outputs": [
    {
     "data": {
      "text/plain": [
       "1.003129611779469"
      ]
     },
     "execution_count": 19,
     "metadata": {},
     "output_type": "execute_result"
    }
   ],
   "source": [
    "# get standard deviation\n",
    "dist_std = norm_dist.std()\n",
    "dist_std"
   ]
  },
  {
   "cell_type": "code",
   "execution_count": 33,
   "id": "cf42e6fa-60ef-451f-a053-34f7f96d362d",
   "metadata": {},
   "outputs": [],
   "source": [
    "# obtain the first and second standard deviations\n",
    "one_std = norm_dist.mean() + dist_std\n",
    "two_std = norm_dist.mean() + 2*dist_std\n",
    "three_std = norm_dist.mean() + 3*dist_std"
   ]
  },
  {
   "cell_type": "code",
   "execution_count": 34,
   "id": "cb5995fc-ade2-4199-9444-a91aee990386",
   "metadata": {},
   "outputs": [
    {
     "data": {
      "image/png": "[encoded data removed]",
      "text/plain": [
       "<Figure size 432x288 with 1 Axes>"
      ]
     },
     "metadata": {
      "needs_background": "light"
     },
     "output_type": "display_data"
    }
   ],
   "source": [
    "# plot the distribution\n",
    "plt.hist(norm_dist, bins=50);\n",
    "\n",
    "# plot standard deviations\n",
    "plt.axvline(one_std, linestyle='--', color='red');\n",
    "plt.axvline(-one_std, linestyle='--', color='red');\n",
    "plt.axvline(two_std, linestyle='--', color='green');\n",
    "plt.axvline(-two_std, linestyle='--', color='green');\n",
    "plt.axvline(three_std, linestyle='--', color='black');\n",
    "plt.axvline(-three_std, linestyle='--', color='black');\n",
    "\n",
    "plt.title('The Normal Distribution')\n",
    "plt.show();"
   ]
  },
  {
   "cell_type": "code",
   "execution_count": 35,
   "id": "bb83aeef-78d9-442b-9e46-c63d833de2e5",
   "metadata": {},
   "outputs": [
    {
     "data": {
      "text/plain": [
       "68664"
      ]
     },
     "execution_count": 35,
     "metadata": {},
     "output_type": "execute_result"
    }
   ],
   "source": [
    "# obtain area inside the first standard deviation.\n",
    "len(norm_dist[(norm_dist < one_std) & (norm_dist > -one_std)])"
   ]
  },
  {
   "cell_type": "code",
   "execution_count": 36,
   "id": "8545f5c9-f171-40b8-a54f-cf1fff4c2a58",
   "metadata": {},
   "outputs": [
    {
     "data": {
      "text/plain": [
       "95497"
      ]
     },
     "execution_count": 36,
     "metadata": {},
     "output_type": "execute_result"
    }
   ],
   "source": [
    "# obtain area inside the second standard deviation.\n",
    "len(norm_dist[(norm_dist < two_std) & (norm_dist > -two_std)])"
   ]
  },
  {
   "cell_type": "code",
   "execution_count": 37,
   "id": "47c6fae3-7b07-4cd1-910b-d3f4e45eebdf",
   "metadata": {},
   "outputs": [
    {
     "data": {
      "text/plain": [
       "99731"
      ]
     },
     "execution_count": 37,
     "metadata": {},
     "output_type": "execute_result"
    }
   ],
   "source": [
    "# obtain area inside the third standard deviation.\n",
    "len(norm_dist[(norm_dist < three_std) & (norm_dist > -three_std)])"
   ]
  },
  {
   "cell_type": "code",
   "execution_count": 43,
   "id": "4961c17a-c412-4a13-8207-f8b9c5b23430",
   "metadata": {},
   "outputs": [
    {
     "name": "stdout",
     "output_type": "stream",
     "text": [
      "0.683\n",
      "0.954\n",
      "0.997\n"
     ]
    }
   ],
   "source": [
    "for num in range(1, 4):\n",
    "    print(np.round(1 - stats.norm.cdf(-num)*2, 3))"
   ]
  },
  {
   "cell_type": "markdown",
   "id": "8bad7014-18dd-4c82-942a-952e80e7c4f9",
   "metadata": {},
   "source": [
    "### **Simulating the Central Limit Theorem**"
   ]
  },
  {
   "cell_type": "code",
   "execution_count": 38,
   "id": "45052a6f-dcb9-40c3-bb05-03892d4492c5",
   "metadata": {},
   "outputs": [],
   "source": [
    "#Import data\n",
    "url = 'https://drive.google.com/file/d/1jomahr4JUPi8lAO33_RB1I-1089feWg2/view?usp=sharing' \n",
    "path = 'https://drive.google.com/uc?export=download&id='+url.split('/')[-2]\n",
    "popl = pd.read_csv(path)"
   ]
  },
  {
   "cell_type": "code",
   "execution_count": 39,
   "id": "713f3ad4-16dd-4d77-a196-7a2ebc1c602a",
   "metadata": {},
   "outputs": [
    {
     "data": {
      "text/html": [
       "<div>\n",
       "<style scoped>\n",
       "    .dataframe tbody tr th:only-of-type {\n",
       "        vertical-align: middle;\n",
       "    }\n",
       "\n",
       "    .dataframe tbody tr th {\n",
       "        vertical-align: top;\n",
       "    }\n",
       "\n",
       "    .dataframe thead th {\n",
       "        text-align: right;\n",
       "    }\n",
       "</style>\n",
       "<table border=\"1\" class=\"dataframe\">\n",
       "  <thead>\n",
       "    <tr style=\"text-align: right;\">\n",
       "      <th></th>\n",
       "      <th>0</th>\n",
       "    </tr>\n",
       "  </thead>\n",
       "  <tbody>\n",
       "    <tr>\n",
       "      <th>0</th>\n",
       "      <td>1.160131</td>\n",
       "    </tr>\n",
       "    <tr>\n",
       "      <th>1</th>\n",
       "      <td>0.222175</td>\n",
       "    </tr>\n",
       "    <tr>\n",
       "      <th>2</th>\n",
       "      <td>3.101406</td>\n",
       "    </tr>\n",
       "    <tr>\n",
       "      <th>3</th>\n",
       "      <td>0.758150</td>\n",
       "    </tr>\n",
       "    <tr>\n",
       "      <th>4</th>\n",
       "      <td>2.159439</td>\n",
       "    </tr>\n",
       "  </tbody>\n",
       "</table>\n",
       "</div>"
      ],
      "text/plain": [
       "          0\n",
       "0  1.160131\n",
       "1  0.222175\n",
       "2  3.101406\n",
       "3  0.758150\n",
       "4  2.159439"
      ]
     },
     "execution_count": 39,
     "metadata": {},
     "output_type": "execute_result"
    }
   ],
   "source": [
    "popl.head()"
   ]
  },
  {
   "cell_type": "code",
   "execution_count": 141,
   "id": "261e714d-d863-4bea-bb20-7454d24e6d3d",
   "metadata": {},
   "outputs": [
    {
     "data": {
      "text/plain": [
       "3.3871463523736334"
      ]
     },
     "execution_count": 141,
     "metadata": {},
     "output_type": "execute_result"
    }
   ],
   "source": [
    "float(popl.mean())"
   ]
  },
  {
   "cell_type": "code",
   "execution_count": 40,
   "id": "5f5e5efd-1a01-48eb-8f10-ba9d75fdf14b",
   "metadata": {
    "collapsed": true,
    "jupyter": {
     "outputs_hidden": true
    },
    "tags": []
   },
   "outputs": [
    {
     "name": "stdout",
     "output_type": "stream",
     "text": [
      "<class 'pandas.core.frame.DataFrame'>\n",
      "RangeIndex: 12500 entries, 0 to 12499\n",
      "Data columns (total 1 columns):\n",
      " #   Column  Non-Null Count  Dtype  \n",
      "---  ------  --------------  -----  \n",
      " 0   0       12500 non-null  float64\n",
      "dtypes: float64(1)\n",
      "memory usage: 97.8 KB\n"
     ]
    }
   ],
   "source": [
    "popl.info()"
   ]
  },
  {
   "cell_type": "code",
   "execution_count": 41,
   "id": "a15149dc-a88a-4ff0-85b8-0f3ecf4ed4dd",
   "metadata": {},
   "outputs": [
    {
     "data": {
      "image/png": "[encoded data removed]",
      "text/plain": [
       "<Figure size 864x720 with 1 Axes>"
      ]
     },
     "metadata": {
      "needs_background": "light"
     },
     "output_type": "display_data"
    }
   ],
   "source": [
    "popl.plot.hist(bins=50, color='blue', figsize=(12, 10));\n",
    "plt.axvline(float(popl.mean()), color='red', linestyle='--');"
   ]
  },
  {
   "cell_type": "markdown",
   "id": "0f3bc3b1-690c-4f19-93d2-83c9bc8f7510",
   "metadata": {},
   "source": [
    "#### **Using a Sampling Distribution**"
   ]
  },
  {
   "cell_type": "code",
   "execution_count": 61,
   "id": "70e06636-4997-4458-8852-e963e6feb683",
   "metadata": {
    "tags": []
   },
   "outputs": [],
   "source": [
    "num_samples = 10000\n",
    "sample_size = 100\n",
    "samples = []\n",
    "sample_mean = []\n",
    "\n",
    "\n",
    "# draw sample distribution\n",
    "for samp in range(num_samples):\n",
    "    samples.append(np.array(popl.sample(n=sample_size, replace=True)['0']))\n",
    "\n",
    "    \n",
    "# calculate distribution means\n",
    "for samp in samples:\n",
    "    sample_mean.append(np.mean(samp))"
   ]
  },
  {
   "cell_type": "code",
   "execution_count": 95,
   "id": "40ccfe59-0202-4fad-bf99-764bd7239aa1",
   "metadata": {},
   "outputs": [
    {
     "name": "stdout",
     "output_type": "stream",
     "text": [
      "standard error based on population: 0.24383710869547745 \n",
      " standard error based on sample:  0.2339525750752268 \n",
      " standard deviation of sample_mean:  0.244904545554111\n"
     ]
    }
   ],
   "source": [
    "# Comparing standard errors formulars\n",
    "stand_error_popl = np.std(np.array(popl['0']))/np.sqrt(sample_size)\n",
    "\n",
    "stand_error_sample = np.std(samples[0])/np.sqrt(sample_size)\n",
    "\n",
    "sample_mean_std_dev = np.std(sample_mean)\n",
    "\n",
    "print('standard error based on population:', stand_error_popl, '\\n',\\\n",
    "      'standard error based on sample: ', stand_error_sample, '\\n',\\\n",
    "      'standard deviation of sample_mean: ', sample_mean_std_dev)"
   ]
  },
  {
   "cell_type": "code",
   "execution_count": 109,
   "id": "e8bf23e4-823b-45f7-87ee-af00e14231ea",
   "metadata": {
    "tags": []
   },
   "outputs": [
    {
     "data": {
      "image/png": "[encoded data removed]",
      "text/plain": [
       "<Figure size 864x576 with 1 Axes>"
      ]
     },
     "metadata": {
      "needs_background": "light"
     },
     "output_type": "display_data"
    }
   ],
   "source": [
    "sample_mean_dist = pd.Series(sample_mean)\n",
    "mean_sample_mean = float(np.mean(sample_mean))\n",
    "std_error = float(np.std(sample_mean))\n",
    "\n",
    "# plot the distribution and the standard errors\n",
    "sample_mean_dist.hist(bins=50, grid=False, figsize=(12, 8), color='gray');\n",
    "plt.axvline(mean_sample_mean, color='white', linestyle='--');\n",
    "plt.axvline(mean_sample_mean + std_error, color='red', linestyle='--');\n",
    "plt.axvline(mean_sample_mean - std_error, color='red', linestyle='--');\n",
    "plt.axvline(mean_sample_mean + 2*std_error, color='green', linestyle='--');\n",
    "plt.axvline(mean_sample_mean - 2*std_error, color='green', linestyle='--');"
   ]
  },
  {
   "cell_type": "markdown",
   "id": "f21b540b-95ed-40d2-b3df-f939955b7c0d",
   "metadata": {},
   "source": [
    "#### **Using Standard Distributions**"
   ]
  },
  {
   "cell_type": "code",
   "execution_count": 127,
   "id": "fd35849a-667f-4282-af64-951961cccd7f",
   "metadata": {
    "tags": []
   },
   "outputs": [
    {
     "data": {
      "image/png": "[encoded data removed]",
      "text/plain": [
       "<Figure size 864x576 with 1 Axes>"
      ]
     },
     "metadata": {
      "needs_background": "light"
     },
     "output_type": "display_data"
    }
   ],
   "source": [
    "# pick sample\n",
    "sample = popl.sample(n=100, random_state=25)\n",
    "\n",
    "# generating a normal distribution\n",
    "popl_norm_dist = stats.norm.rvs(loc=np.mean(sample['0']),       # sample mean\n",
    "                                scale=stats.sem(sample),        # estimation of standard error\n",
    "                                size=10000,\n",
    "                                random_state=45\n",
    "                               )\n",
    "\n",
    "# plot distribution and the standard errors\n",
    "popl_norm_dist = pd.Series(popl_norm_dist)\n",
    "popl_norm_dist.hist(bins=50, grid=False, figsize=(12, 8), color='blue');\n",
    "plt.axvline(np.mean(sample['0']), color='black', linestyle='--');\n",
    "plt.axvline(mean_sample_mean, color='black', linestyle='-');\n",
    "plt.axvline(np.mean(sample['0']) + stats.sem(sample), color='red', linestyle='--');\n",
    "plt.axvline(np.mean(sample['0']) - stats.sem(sample), color='red', linestyle='--');\n",
    "plt.axvline(np.mean(sample['0']) + 2*stats.sem(sample), color='green', linestyle='--');\n",
    "plt.axvline(np.mean(sample['0']) - 2*stats.sem(sample), color='green', linestyle='--');"
   ]
  },
  {
   "cell_type": "code",
   "execution_count": 124,
   "id": "cf6ec09e-bb24-4d53-a89e-041893eb1198",
   "metadata": {},
   "outputs": [
    {
     "data": {
      "text/plain": [
       "(array([2.61478712]), array([3.57918657]))"
      ]
     },
     "execution_count": 124,
     "metadata": {},
     "output_type": "execute_result"
    }
   ],
   "source": [
    "# calculate the confidence interval\n",
    "stats.norm.interval(confidence=0.95,               # the confidence interval\n",
    "                    loc=np.mean(sample['0']),      # sample mean\n",
    "                    scale=stats.sem(sample)        # standard error\n",
    "                   )"
   ]
  },
  {
   "cell_type": "code",
   "execution_count": 136,
   "id": "4a37c0ac-101d-41d3-85bf-3dc97c484bb0",
   "metadata": {},
   "outputs": [
    {
     "data": {
      "image/png": "[encoded data removed]",
      "text/plain": [
       "<Figure size 864x576 with 1 Axes>"
      ]
     },
     "metadata": {
      "needs_background": "light"
     },
     "output_type": "display_data"
    }
   ],
   "source": [
    "# generating a t distribution\n",
    "popl_t_dist = stats.t.rvs(loc=np.mean(sample['0']),    # sample mean\n",
    "                          scale=stats.sem(sample),     # estimation of standard error\n",
    "                          df=len(sample),              # size of sample\n",
    "                          size=10000,\n",
    "                          random_state=45\n",
    "                         )\n",
    "\n",
    "# plot distribution and the standard errors\n",
    "popl_t_dist = pd.Series(popl_t_dist)\n",
    "popl_t_dist.hist(bins=50, grid=False, figsize=(12, 8), color='orange');\n",
    "plt.axvline(np.mean(sample['0']), color='black', linestyle='--');\n",
    "plt.axvline(mean_sample_mean, color='black', linestyle='-');\n",
    "plt.axvline(np.mean(sample['0']) + stats.sem(sample), color='red', linestyle='--');\n",
    "plt.axvline(np.mean(sample['0']) - stats.sem(sample), color='red', linestyle='--');\n",
    "plt.axvline(np.mean(sample['0']) + 2*stats.sem(sample), color='green', linestyle='--');\n",
    "plt.axvline(np.mean(sample['0']) - 2*stats.sem(sample), color='green', linestyle='--');"
   ]
  },
  {
   "cell_type": "code",
   "execution_count": 138,
   "id": "ab31c577-d548-4aa0-afc2-d294df09e28b",
   "metadata": {},
   "outputs": [
    {
     "data": {
      "text/plain": [
       "(array([2.60882029]), array([3.5851534]))"
      ]
     },
     "execution_count": 138,
     "metadata": {},
     "output_type": "execute_result"
    }
   ],
   "source": [
    "# calculate the confidence interval\n",
    "stats.t.interval(confidence=0.95,               # the confidence interval\n",
    "                 loc=np.mean(sample['0']),      # sample mean\n",
    "                 scale=stats.sem(sample),       # standard error\n",
    "                 df=len(sample)-1\n",
    "                )"
   ]
  },
  {
   "cell_type": "code",
   "execution_count": 142,
   "id": "108da050-ae37-424b-a121-0675fb84af39",
   "metadata": {},
   "outputs": [
    {
     "name": "stdout",
     "output_type": "stream",
     "text": [
      "The true mean falls inside the confidence interval 9506 times\n"
     ]
    }
   ],
   "source": [
    "counter = 0\n",
    "\n",
    "for i in range(10000):\n",
    "    sample = popl.sample(n=100)\n",
    "    confid_interval = stats.t.interval(confidence=0.95,               # the confidence interval\n",
    "                                       loc=np.mean(sample['0']),      # sample mean\n",
    "                                       scale=stats.sem(sample),       # standard error\n",
    "                                       df=len(sample)-1\n",
    "                                      )\n",
    "    \n",
    "    if (confid_interval[0][0] < float(popl.mean())) & (confid_interval[1][0] > float(popl.mean())):\n",
    "        counter += 1\n",
    "\n",
    "print(\"The true mean falls inside the confidence interval \" + str(counter) + \" times\")"
   ]
  },
  {
   "cell_type": "code",
   "execution_count": null,
   "id": "13de368a-7a6f-48fc-81f4-55c0652c2a21",
   "metadata": {},
   "outputs": [],
   "source": []
  }
 ],
 "metadata": {
  "kernelspec": {
   "display_name": "Python 3 (ipykernel)",
   "language": "python",
   "name": "python3"
  },
  "language_info": {
   "codemirror_mode": {
    "name": "ipython",
    "version": 3
   },
   "file_extension": ".py",
   "mimetype": "text/x-python",
   "name": "python",
   "nbconvert_exporter": "python",
   "pygments_lexer": "ipython3",
   "version": "3.9.12"
  }
 },
 "nbformat": 4,
 "nbformat_minor": 5
}
