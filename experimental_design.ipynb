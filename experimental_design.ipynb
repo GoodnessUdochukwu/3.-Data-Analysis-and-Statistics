{
 "cells": [
  {
   "cell_type": "markdown",
   "id": "411392c2-7148-4864-bc28-9a36bacc5a67",
   "metadata": {},
   "source": [
    "# **Experimental Design**"
   ]
  },
  {
   "cell_type": "code",
   "execution_count": 5,
   "id": "85a21763-03dd-43c2-a76e-3d760e3a11e6",
   "metadata": {},
   "outputs": [],
   "source": [
    "import pandas as pd\n",
    "import numpy as np\n",
    "from scipy import stats\n",
    "import statsmodels.stats"
   ]
  },
  {
   "cell_type": "markdown",
   "id": "f4a2907a-8bb2-4c21-aec3-3c0a3c76cbb4",
   "metadata": {
    "tags": []
   },
   "source": [
    "## **A/B Testing**"
   ]
  },
  {
   "cell_type": "markdown",
   "id": "4fcce2f7-638a-4eac-96b5-28eec88f1ba5",
   "metadata": {
    "tags": []
   },
   "source": [
    "    Conducted using a Chi-square hypothesis test.\n",
    "    -----------------------------------------------------------------------------------------------------------\n",
    "    Sample size calculator requires 3 parameters;\n",
    "    \n",
    "        Baseline conversion rate (BCR): is the current conversion rate or current_baseline.\n",
    "        Minimum detectable effect (mde)/Minimum desired lift.\n",
    "        Statistical significance threshold.\n",
    "        \n",
    "        mde = ((new_baseline(NCR) - current_baseline)/current_baseline)*100   \n",
    "    -----------------------------------------------------------------------------------------------------------   \n",
    "    False positive: The probability of finding a significant difference when there is none.\n",
    "    False negative: The probability of not finding a significant difference when there is.\n",
    "    -----------------------------------------------------------------------------------------------------------\n",
    "    Most A/B test sample size calculators estimate the sample size needed for a 20% false negative rate; while a data scientist needs to choose the false positive rate they are comfortable with. \n",
    "    -----------------------------------------------------------------------------------------------------------\n",
    "    The lower the false positive rate, the larger the sample size will need to be!\n",
    "    -----------------------------------------------------------------------------------------------------------\n",
    "    Two important rules for making sure that A/B tests remain unbiased:\n",
    "        - Don’t continue to run the test after the predetermined sample size, until “significant” results are found.\n",
    "        - Don’t stop a test before reaching the predetermined sample size, just because your results reach significance early (unless there are ethical reasons that require you to stop, like a prescription drug trial)."
   ]
  },
  {
   "cell_type": "markdown",
   "id": "e1896e5c-c0ac-4a52-9caa-bdc23acd767a",
   "metadata": {},
   "source": [
    " #### **Import Data**"
   ]
  },
  {
   "cell_type": "code",
   "execution_count": 6,
   "id": "d571bdca-3601-478d-9cc9-5e43a65f3b3b",
   "metadata": {
    "collapsed": true,
    "jupyter": {
     "outputs_hidden": true
    },
    "tags": []
   },
   "outputs": [
    {
     "data": {
      "text/html": [
       "<div>\n",
       "<style scoped>\n",
       "    .dataframe tbody tr th:only-of-type {\n",
       "        vertical-align: middle;\n",
       "    }\n",
       "\n",
       "    .dataframe tbody tr th {\n",
       "        vertical-align: top;\n",
       "    }\n",
       "\n",
       "    .dataframe thead th {\n",
       "        text-align: right;\n",
       "    }\n",
       "</style>\n",
       "<table border=\"1\" class=\"dataframe\">\n",
       "  <thead>\n",
       "    <tr style=\"text-align: right;\">\n",
       "      <th></th>\n",
       "      <th>Web_Version</th>\n",
       "      <th>Purchased</th>\n",
       "    </tr>\n",
       "  </thead>\n",
       "  <tbody>\n",
       "    <tr>\n",
       "      <th>0</th>\n",
       "      <td>A</td>\n",
       "      <td>no</td>\n",
       "    </tr>\n",
       "    <tr>\n",
       "      <th>1</th>\n",
       "      <td>A</td>\n",
       "      <td>no</td>\n",
       "    </tr>\n",
       "    <tr>\n",
       "      <th>2</th>\n",
       "      <td>A</td>\n",
       "      <td>yes</td>\n",
       "    </tr>\n",
       "    <tr>\n",
       "      <th>3</th>\n",
       "      <td>A</td>\n",
       "      <td>yes</td>\n",
       "    </tr>\n",
       "    <tr>\n",
       "      <th>4</th>\n",
       "      <td>A</td>\n",
       "      <td>yes</td>\n",
       "    </tr>\n",
       "    <tr>\n",
       "      <th>...</th>\n",
       "      <td>...</td>\n",
       "      <td>...</td>\n",
       "    </tr>\n",
       "    <tr>\n",
       "      <th>95</th>\n",
       "      <td>B</td>\n",
       "      <td>yes</td>\n",
       "    </tr>\n",
       "    <tr>\n",
       "      <th>96</th>\n",
       "      <td>B</td>\n",
       "      <td>yes</td>\n",
       "    </tr>\n",
       "    <tr>\n",
       "      <th>97</th>\n",
       "      <td>B</td>\n",
       "      <td>yes</td>\n",
       "    </tr>\n",
       "    <tr>\n",
       "      <th>98</th>\n",
       "      <td>B</td>\n",
       "      <td>yes</td>\n",
       "    </tr>\n",
       "    <tr>\n",
       "      <th>99</th>\n",
       "      <td>B</td>\n",
       "      <td>yes</td>\n",
       "    </tr>\n",
       "  </tbody>\n",
       "</table>\n",
       "<p>100 rows × 2 columns</p>\n",
       "</div>"
      ],
      "text/plain": [
       "   Web_Version Purchased\n",
       "0            A        no\n",
       "1            A        no\n",
       "2            A       yes\n",
       "3            A       yes\n",
       "4            A       yes\n",
       "..         ...       ...\n",
       "95           B       yes\n",
       "96           B       yes\n",
       "97           B       yes\n",
       "98           B       yes\n",
       "99           B       yes\n",
       "\n",
       "[100 rows x 2 columns]"
      ]
     },
     "execution_count": 6,
     "metadata": {},
     "output_type": "execute_result"
    }
   ],
   "source": [
    "web_purchase = pd.read_csv('web_version.txt', engine='python', sep=',')\n",
    "web_purchase"
   ]
  },
  {
   "cell_type": "code",
   "execution_count": 9,
   "id": "7f0a7f82-3136-4f9d-b488-3988e3fc8e3c",
   "metadata": {},
   "outputs": [
    {
     "name": "stdout",
     "output_type": "stream",
     "text": [
      "Purchased    no  yes\n",
      "Web_Version         \n",
      "A            24   26\n",
      "B            15   35\n",
      "--------------------------------------\n",
      "0.10096676200907678 , Significance: False\n"
     ]
    }
   ],
   "source": [
    "# Perform Chi-square test.\n",
    "ab_contingency = pd.crosstab(web_purchase.Web_Version, web_purchase.Purchased)\n",
    "\n",
    "chi2, pval, dof, expected = stats.chi2_contingency(ab_contingency)\n",
    "\n",
    "print(ab_contingency)\n",
    "print('--------------------------------------')\n",
    "print(pval, ', Significance:', pval < 0.05)"
   ]
  },
  {
   "cell_type": "markdown",
   "id": "1aadd803-2c33-44cf-b9ec-cfdbc22c6369",
   "metadata": {},
   "source": [
    "#### **Simulate A/B Data for a Chi-square test**"
   ]
  },
  {
   "cell_type": "code",
   "execution_count": 11,
   "id": "83a117ee-93fc-4048-9c28-ea8d01215afb",
   "metadata": {
    "collapsed": true,
    "jupyter": {
     "outputs_hidden": true
    },
    "tags": []
   },
   "outputs": [
    {
     "data": {
      "text/html": [
       "<div>\n",
       "<style scoped>\n",
       "    .dataframe tbody tr th:only-of-type {\n",
       "        vertical-align: middle;\n",
       "    }\n",
       "\n",
       "    .dataframe tbody tr th {\n",
       "        vertical-align: top;\n",
       "    }\n",
       "\n",
       "    .dataframe thead th {\n",
       "        text-align: right;\n",
       "    }\n",
       "</style>\n",
       "<table border=\"1\" class=\"dataframe\">\n",
       "  <thead>\n",
       "    <tr style=\"text-align: right;\">\n",
       "      <th></th>\n",
       "      <th>Label</th>\n",
       "      <th>Outcome</th>\n",
       "    </tr>\n",
       "  </thead>\n",
       "  <tbody>\n",
       "    <tr>\n",
       "      <th>0</th>\n",
       "      <td>control</td>\n",
       "      <td>no</td>\n",
       "    </tr>\n",
       "    <tr>\n",
       "      <th>1</th>\n",
       "      <td>control</td>\n",
       "      <td>yes</td>\n",
       "    </tr>\n",
       "    <tr>\n",
       "      <th>2</th>\n",
       "      <td>control</td>\n",
       "      <td>yes</td>\n",
       "    </tr>\n",
       "    <tr>\n",
       "      <th>3</th>\n",
       "      <td>control</td>\n",
       "      <td>yes</td>\n",
       "    </tr>\n",
       "    <tr>\n",
       "      <th>4</th>\n",
       "      <td>control</td>\n",
       "      <td>yes</td>\n",
       "    </tr>\n",
       "    <tr>\n",
       "      <th>...</th>\n",
       "      <td>...</td>\n",
       "      <td>...</td>\n",
       "    </tr>\n",
       "    <tr>\n",
       "      <th>495</th>\n",
       "      <td>new</td>\n",
       "      <td>yes</td>\n",
       "    </tr>\n",
       "    <tr>\n",
       "      <th>496</th>\n",
       "      <td>new</td>\n",
       "      <td>yes</td>\n",
       "    </tr>\n",
       "    <tr>\n",
       "      <th>497</th>\n",
       "      <td>new</td>\n",
       "      <td>yes</td>\n",
       "    </tr>\n",
       "    <tr>\n",
       "      <th>498</th>\n",
       "      <td>new</td>\n",
       "      <td>yes</td>\n",
       "    </tr>\n",
       "    <tr>\n",
       "      <th>499</th>\n",
       "      <td>new</td>\n",
       "      <td>no</td>\n",
       "    </tr>\n",
       "  </tbody>\n",
       "</table>\n",
       "<p>500 rows × 2 columns</p>\n",
       "</div>"
      ],
      "text/plain": [
       "       Label Outcome\n",
       "0    control      no\n",
       "1    control     yes\n",
       "2    control     yes\n",
       "3    control     yes\n",
       "4    control     yes\n",
       "..       ...     ...\n",
       "495      new     yes\n",
       "496      new     yes\n",
       "497      new     yes\n",
       "498      new     yes\n",
       "499      new      no\n",
       "\n",
       "[500 rows x 2 columns]"
      ]
     },
     "execution_count": 11,
     "metadata": {},
     "output_type": "execute_result"
    }
   ],
   "source": [
    "# Assume.\n",
    "sample_size = 500\n",
    "lift = 0.3\n",
    "BCR = 0.5\n",
    "NCR = (1 + lift) * BCR\n",
    "\n",
    "\n",
    "# Simulate random process with different probabilities for control and new.\n",
    "sample_control = np.random.choice(['yes', 'no'], size=int(sample_size/2), p=[BCR, 1-BCR])\n",
    "sample_new = np.random.choice(['yes', 'no'], size=int(sample_size/2), p=[NCR, 1-NCR])\n",
    "\n",
    "\n",
    "# Develop a dataframe for the Chi-square test.\n",
    "group = ['control']*int(sample_size/2) + ['new']*int(sample_size/2)\n",
    "outcome = list(sample_control) + list(sample_new)\n",
    "sim_data = {\"Label\": group, \"Outcome\": outcome}\n",
    "sim_data = pd.DataFrame(sim_data)\n",
    "sim_data"
   ]
  },
  {
   "cell_type": "code",
   "execution_count": 12,
   "id": "07c3c8de-fd84-4cd4-9f58-e3646b745eb5",
   "metadata": {},
   "outputs": [
    {
     "name": "stdout",
     "output_type": "stream",
     "text": [
      "Outcome   no  yes\n",
      "Label            \n",
      "control  122  128\n",
      "new       85  165\n",
      "--------------------------------------\n",
      "0.0010806159373268863 , Significance: True\n"
     ]
    }
   ],
   "source": [
    "# Perform Chi-square test.\n",
    "ab_contingency = pd.crosstab(sim_data.Label, sim_data.Outcome)\n",
    "\n",
    "chi2, pval, dof, expected = stats.chi2_contingency(ab_contingency)\n",
    "\n",
    "print(ab_contingency)\n",
    "print('--------------------------------------')\n",
    "print(pval, ', Significance:', pval < 0.05)"
   ]
  },
  {
   "cell_type": "markdown",
   "id": "c3dcc898-af40-4d6c-a151-d93ab0cf92e0",
   "metadata": {},
   "source": [
    "#### **Estimating the Power**"
   ]
  },
  {
   "cell_type": "code",
   "execution_count": 28,
   "id": "fccf55be-7063-4c7f-8718-856bb9d8313b",
   "metadata": {},
   "outputs": [],
   "source": [
    "def estimate_power(significance_threshold, sample_size, lift, BCR, NCR, n):\n",
    "    \n",
    "    # Initialize an empty list.\n",
    "    results = []\n",
    "\n",
    "    for num in range(n):\n",
    "        # Simulate random process with different probabilities for control and new.\n",
    "        sample_control = np.random.choice(['yes', 'no'],  size=int(sample_size/2), p=[BCR, 1-BCR])\n",
    "        sample_new = np.random.choice(['yes', 'no'], size=int(sample_size/2), p=[NCR, 1-NCR])\n",
    "\n",
    "        # Develop a dataframe for the Chi-square test.\n",
    "        group = ['control']*int(sample_size/2) + ['new']*int(sample_size/2)\n",
    "        outcome = list(sample_control) + list(sample_new)\n",
    "        sim_data = {\"Label\": group, \"Outcome\": outcome}\n",
    "        sim_data = pd.DataFrame(sim_data)\n",
    "\n",
    "        # run the test.\n",
    "        ab_contingency = pd.crosstab(np.array(sim_data.Label), np.array(sim_data.Outcome))\n",
    "        chi2, pval, dof, expected = stats.chi2_contingency(ab_contingency)\n",
    "        result = ('significant' if pval < significance_threshold else 'not significant')\n",
    "\n",
    "        # append the result to our results list here:\n",
    "        results.append(result)\n",
    "\n",
    "    # calculate proportion of significant results here:\n",
    "    #print(\"Proportion of significant results:\")\n",
    "    results = np.array(results)\n",
    "    #print(results[results == 'significant'])\n",
    "    \n",
    "    return np.sum(results == 'significant')/n"
   ]
  },
  {
   "cell_type": "code",
   "execution_count": 43,
   "id": "9b3a2519-bc91-4714-b0dc-2106e87511bb",
   "metadata": {},
   "outputs": [
    {
     "data": {
      "text/plain": [
       "0.894"
      ]
     },
     "execution_count": 43,
     "metadata": {},
     "output_type": "execute_result"
    }
   ],
   "source": [
    "# Assume.\n",
    "significance_threshold = 0.01\n",
    "sample_size = 350\n",
    "lift = 0.4\n",
    "BCR = 0.5\n",
    "NCR = (1 + lift) * BCR\n",
    "n = 500  # no of experiments to run\n",
    "\n",
    "power_of_test = estimate_power(significance_threshold, sample_size, lift, BCR, NCR, n)\n",
    "power_of_test     # same as the true positive rate"
   ]
  },
  {
   "cell_type": "markdown",
   "id": "cda3b105-3891-4aa3-8f47-02b2b4df7ae7",
   "metadata": {},
   "source": [
    "    Typically, most A/B test selects sample sizes so as to obtain at least 80% power.\n",
    "    \n",
    "    To obtain this, experiments are designed with 80%/(1 - significance_threshold) power;\n",
    "    this is done to take care of the false positives that results from running the experiment with a lift of 0, since these false positives will occur in the true positives.\n",
    "    \n",
    "    Caveats:\n",
    "        Increasing the sample size increases the power of the test (the probability of detecting a difference if there is one); however, larger sample sizes require more time and resources.\n",
    "        \n",
    "        Increasing the significance threshold also increases the power of the test; however, it simultaneously increases the false positive rate (the probability of detecting a difference when there isn’t one).\n",
    "        \n",
    "        Increasing the minimum detectable effect/lift, will enable a decrease in the sample size without decreasing power. "
   ]
  },
  {
   "cell_type": "code",
   "execution_count": null,
   "id": "3bb22f4d-e18e-4dca-aa5a-5cf6771f006f",
   "metadata": {},
   "outputs": [],
   "source": []
  }
 ],
 "metadata": {
  "kernelspec": {
   "display_name": "Python 3 (ipykernel)",
   "language": "python",
   "name": "python3"
  },
  "language_info": {
   "codemirror_mode": {
    "name": "ipython",
    "version": 3
   },
   "file_extension": ".py",
   "mimetype": "text/x-python",
   "name": "python",
   "nbconvert_exporter": "python",
   "pygments_lexer": "ipython3",
   "version": "3.9.12"
  }
 },
 "nbformat": 4,
 "nbformat_minor": 5
}
